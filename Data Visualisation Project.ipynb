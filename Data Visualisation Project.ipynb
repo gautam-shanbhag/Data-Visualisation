{
 "cells": [
  {
   "cell_type": "code",
   "execution_count": 1,
   "metadata": {},
   "outputs": [
    {
     "data": {
      "text/html": [
       "<script type=\"text/javascript\">window.PlotlyConfig = {MathJaxConfig: 'local'};</script><script type=\"text/javascript\">if (window.MathJax) {MathJax.Hub.Config({SVG: {font: \"STIX-Web\"}});}</script><script>requirejs.config({paths: { 'plotly': ['https://cdn.plot.ly/plotly-latest.min']},});if(!window._Plotly) {require(['plotly'],function(plotly) {window._Plotly=plotly;});}</script>"
      ],
      "text/vnd.plotly.v1+html": [
       "<script type=\"text/javascript\">window.PlotlyConfig = {MathJaxConfig: 'local'};</script><script type=\"text/javascript\">if (window.MathJax) {MathJax.Hub.Config({SVG: {font: \"STIX-Web\"}});}</script><script>requirejs.config({paths: { 'plotly': ['https://cdn.plot.ly/plotly-latest.min']},});if(!window._Plotly) {require(['plotly'],function(plotly) {window._Plotly=plotly;});}</script>"
      ]
     },
     "metadata": {},
     "output_type": "display_data"
    }
   ],
   "source": [
    "#Import libraries\n",
    "\n",
    "import plotly\n",
    "import plotly.plotly as py\n",
    "import plotly.graph_objs as go\n",
    "import pandas as pd\n",
    "import matplotlib.pyplot as plt\n",
    "import numpy as np\n",
    "import pandas as pd\n",
    "from wordcloud import WordCloud\n",
    "from PIL import Image\n",
    "import datetime\n",
    "import math\n",
    "plotly.offline.init_notebook_mode(connected=True)\n",
    "\n",
    "\n",
    "# Read Excel Sheet for dataframes\n",
    "df1 = pd.read_excel(io=\"C:/Users/Gautam/Desktop/marvel-dataset-final.xlsx\", sheet_name=\"marvel\")\n",
    "df2 = pd.read_excel(io=\"C:/Users/Gautam/Desktop/marvel-dataset-final.xlsx\", sheet_name=\"movieCast\")\n",
    "df3 = pd.read_excel(io=\"C:/Users/Gautam/Desktop/marvel-dataset-final.xlsx\", sheet_name=\"actor\")\n"
   ]
  },
  {
   "cell_type": "markdown",
   "metadata": {},
   "source": [
    "# Interactive Line Chart with Dropdown options"
   ]
  },
  {
   "cell_type": "code",
   "execution_count": 9,
   "metadata": {
    "scrolled": true
   },
   "outputs": [
    {
     "data": {
      "application/vnd.plotly.v1+json": {
       "data": [
        {
         "hoverlabel": {
          "bgcolor": "#7F7F7F"
         },
         "hovertext": [
          "Iron Man",
          "The Incredible Hulk",
          "Iron Man 2",
          "Thor",
          "Captain America: The First Avenger",
          "The Avengers",
          "Iron Man 3",
          "Thor: The Dark World",
          "Captain America: The Winter Soldier",
          "Guardians of the Galaxy",
          "Avengers: Age of Ultron",
          "Ant-Man",
          "Captain America: Civil War",
          "Doctor Strange",
          "Guardians of the Galaxy Vol 2",
          "Spider-Man: Homecoming",
          "Thor: Ragnarok",
          "Black Panther",
          "Avengers: Infinity War",
          "Ant-Man and the Wasp",
          "Captain Marvel",
          "Avengers: End Game",
          "Spider-Man: Far From Home",
          "Guardians of the Galaxy Vol 3"
         ],
         "line": {
          "color": "#7F7F7F"
         },
         "marker": {
          "size": 10,
          "symbol": "star"
         },
         "mode": "lines+markers",
         "name": "Production Budget",
         "opacity": 0.8,
         "type": "scatter",
         "uid": "a001d66d-7d0a-4454-a451-7ed5e80cf02c",
         "x": [
          "2008-05-02",
          "2008-06-13",
          "2010-05-07",
          "2011-05-06",
          "2011-07-22",
          "2012-05-04",
          "2013-05-03",
          "2013-11-08",
          "2014-04-04",
          "2014-08-01",
          "2015-05-01",
          "2015-07-17",
          "2016-05-06",
          "2016-11-04",
          "2017-05-05",
          "2017-07-07",
          "2017-11-03",
          "2018-02-16",
          "2018-04-27",
          "2018-07-06",
          "2019-03-08",
          "2019-05-03",
          "2019-07-05",
          "2020-01-01"
         ],
         "y": [
          186000000,
          137500000,
          170000000,
          150000000,
          140000000,
          225000000,
          200000000,
          150000000,
          170000000,
          170000000,
          330600000,
          130000000,
          250000000,
          165000000,
          200000000,
          175000000,
          180000000,
          200000000,
          300000000,
          130000000,
          0,
          0,
          0,
          0
         ]
        },
        {
         "hoverlabel": {
          "bgcolor": "#17BECF"
         },
         "hovertext": [
          "Iron Man",
          "The Incredible Hulk",
          "Iron Man 2",
          "Thor",
          "Captain America: The First Avenger",
          "The Avengers",
          "Iron Man 3",
          "Thor: The Dark World",
          "Captain America: The Winter Soldier",
          "Guardians of the Galaxy",
          "Avengers: Age of Ultron",
          "Ant-Man",
          "Captain America: Civil War",
          "Doctor Strange",
          "Guardians of the Galaxy Vol 2",
          "Spider-Man: Homecoming",
          "Thor: Ragnarok",
          "Black Panther",
          "Avengers: Infinity War",
          "Ant-Man and the Wasp",
          "Captain Marvel",
          "Avengers: End Game",
          "Spider-Man: Far From Home",
          "Guardians of the Galaxy Vol 3"
         ],
         "line": {
          "color": "#17BECF"
         },
         "marker": {
          "size": 10,
          "symbol": "star"
         },
         "mode": "lines+markers",
         "name": "Worldwide Box Office Collection",
         "opacity": 0.8,
         "type": "scatter",
         "uid": "5c1e73be-a6a9-4415-a25f-f70eb13ae168",
         "x": [
          "2008-05-02",
          "2008-06-13",
          "2010-05-07",
          "2011-05-06",
          "2011-07-22",
          "2012-05-04",
          "2013-05-03",
          "2013-11-08",
          "2014-04-04",
          "2014-08-01",
          "2015-05-01",
          "2015-07-17",
          "2016-05-06",
          "2016-11-04",
          "2017-05-05",
          "2017-07-07",
          "2017-11-03",
          "2018-02-16",
          "2018-04-27",
          "2018-07-06",
          "2019-03-08",
          "2019-05-03",
          "2019-07-05",
          "2020-01-01"
         ],
         "y": [
          585171547,
          265573859,
          621156389,
          449326618,
          370569776,
          1517935897,
          1215392272,
          644602516,
          714401889,
          770867516,
          1403013963,
          518860086,
          1140081024,
          676486457,
          862317259,
          880070886,
          846980024,
          1347071259,
          2008425124,
          617260330,
          0,
          0,
          0,
          0
         ]
        },
        {
         "hoverlabel": {
          "bgcolor": "#E74C3C"
         },
         "hovertext": [
          "Iron Man",
          "The Incredible Hulk",
          "Iron Man 2",
          "Thor",
          "Captain America: The First Avenger",
          "The Avengers",
          "Iron Man 3",
          "Thor: The Dark World",
          "Captain America: The Winter Soldier",
          "Guardians of the Galaxy",
          "Avengers: Age of Ultron",
          "Ant-Man",
          "Captain America: Civil War",
          "Doctor Strange",
          "Guardians of the Galaxy Vol 2",
          "Spider-Man: Homecoming",
          "Thor: Ragnarok",
          "Black Panther",
          "Avengers: Infinity War",
          "Ant-Man and the Wasp",
          "Captain Marvel",
          "Avengers: End Game",
          "Spider-Man: Far From Home",
          "Guardians of the Galaxy Vol 3"
         ],
         "line": {
          "color": "#E74C3C"
         },
         "marker": {
          "size": 10,
          "symbol": "star"
         },
         "mode": "lines+markers",
         "name": "Domestic Box Office Collection",
         "opacity": 0.8,
         "type": "scatter",
         "uid": "a03be874-b953-4c00-a1f3-d9db9b425e55",
         "x": [
          "2008-05-02",
          "2008-06-13",
          "2010-05-07",
          "2011-05-06",
          "2011-07-22",
          "2012-05-04",
          "2013-05-03",
          "2013-11-08",
          "2014-04-04",
          "2014-08-01",
          "2015-05-01",
          "2015-07-17",
          "2016-05-06",
          "2016-11-04",
          "2017-05-05",
          "2017-07-07",
          "2017-11-03",
          "2018-02-16",
          "2018-04-27",
          "2018-07-06",
          "2019-03-08",
          "2019-05-03",
          "2019-07-05",
          "2020-01-01"
         ],
         "y": [
          318604126,
          134806913,
          312433331,
          181030624,
          176654505,
          623279547,
          408992272,
          206362140,
          259746958,
          333172112,
          459005868,
          180202163,
          408084349,
          232641920,
          389813101,
          334201140,
          315058289,
          700059566,
          678815482,
          216648740,
          0,
          0,
          0,
          0
         ]
        },
        {
         "hoverlabel": {
          "bgcolor": "#F4D03F"
         },
         "hovertext": [
          "Iron Man",
          "The Incredible Hulk",
          "Iron Man 2",
          "Thor",
          "Captain America: The First Avenger",
          "The Avengers",
          "Iron Man 3",
          "Thor: The Dark World",
          "Captain America: The Winter Soldier",
          "Guardians of the Galaxy",
          "Avengers: Age of Ultron",
          "Ant-Man",
          "Captain America: Civil War",
          "Doctor Strange",
          "Guardians of the Galaxy Vol 2",
          "Spider-Man: Homecoming",
          "Thor: Ragnarok",
          "Black Panther",
          "Avengers: Infinity War",
          "Ant-Man and the Wasp",
          "Captain Marvel",
          "Avengers: End Game",
          "Spider-Man: Far From Home",
          "Guardians of the Galaxy Vol 3"
         ],
         "line": {
          "color": "#F4D03F"
         },
         "marker": {
          "size": 10,
          "symbol": "star"
         },
         "mode": "lines+markers",
         "name": "Opening Weekend Collection",
         "opacity": 0.8,
         "type": "scatter",
         "uid": "d14b73f9-9b38-4cbb-a260-6da388ba649c",
         "x": [
          "2008-05-02",
          "2008-06-13",
          "2010-05-07",
          "2011-05-06",
          "2011-07-22",
          "2012-05-04",
          "2013-05-03",
          "2013-11-08",
          "2014-04-04",
          "2014-08-01",
          "2015-05-01",
          "2015-07-17",
          "2016-05-06",
          "2016-11-04",
          "2017-05-05",
          "2017-07-07",
          "2017-11-03",
          "2018-02-16",
          "2018-04-27",
          "2018-07-06",
          "2019-03-08",
          "2019-05-03",
          "2019-07-05",
          "2020-01-01"
         ],
         "y": [
          102118668,
          55414050,
          128122480,
          65723338,
          65058524,
          207438708,
          174144585,
          85737841,
          95023721,
          94320883,
          191271109,
          57225526,
          179139142,
          85058311,
          146510104,
          117027503,
          122744989,
          202003951,
          257698183,
          75812205,
          0,
          0,
          0,
          0
         ]
        }
       ],
       "layout": {
        "title": "Marvel Movie Collection in USD",
        "updatemenus": [
         {
          "active": 3,
          "buttons": [
           {
            "args": [
             {
              "visible": [
               true,
               true,
               false,
               false
              ]
             }
            ],
            "label": "World Box Office Collection",
            "method": "update"
           },
           {
            "args": [
             {
              "visible": [
               true,
               false,
               true,
               false
              ]
             }
            ],
            "label": "Domestic Box Office Collection",
            "method": "update"
           },
           {
            "args": [
             {
              "visible": [
               true,
               false,
               false,
               true
              ]
             }
            ],
            "label": "Opening Weekend Collection",
            "method": "update"
           },
           {
            "args": [
             {
              "visible": [
               true,
               true,
               true,
               true
              ]
             }
            ],
            "label": "Reset",
            "method": "update"
           }
          ]
         }
        ],
        "xaxis": {
         "range": [
          1167609600000,
          1609459200000
         ],
         "ticks": "inside",
         "title": "Date Released"
        },
        "yaxis": {
         "ticks": "inside",
         "title": "Amount in USD"
        }
       }
      },
      "text/html": [
       "<div id=\"eeaebb9c-8aa8-4f5f-85af-f5389259bd30\" style=\"height: 525px; width: 100%;\" class=\"plotly-graph-div\"></div><script type=\"text/javascript\">require([\"plotly\"], function(Plotly) { window.PLOTLYENV=window.PLOTLYENV || {};window.PLOTLYENV.BASE_URL=\"https://plot.ly\";Plotly.newPlot(\"eeaebb9c-8aa8-4f5f-85af-f5389259bd30\", [{\"hoverlabel\": {\"bgcolor\": \"#7F7F7F\"}, \"hovertext\": [\"Iron Man\", \"The Incredible Hulk\", \"Iron Man 2\", \"Thor\", \"Captain America: The First Avenger\", \"The Avengers\", \"Iron Man 3\", \"Thor: The Dark World\", \"Captain America: The Winter Soldier\", \"Guardians of the Galaxy\", \"Avengers: Age of Ultron\", \"Ant-Man\", \"Captain America: Civil War\", \"Doctor Strange\", \"Guardians of the Galaxy Vol 2\", \"Spider-Man: Homecoming\", \"Thor: Ragnarok\", \"Black Panther\", \"Avengers: Infinity War\", \"Ant-Man and the Wasp\", \"Captain Marvel\", \"Avengers: End Game\", \"Spider-Man: Far From Home\", \"Guardians of the Galaxy Vol 3\"], \"line\": {\"color\": \"#7F7F7F\"}, \"marker\": {\"size\": 10, \"symbol\": \"star\"}, \"mode\": \"lines+markers\", \"name\": \"Production Budget\", \"opacity\": 0.8, \"x\": [\"2008-05-02\", \"2008-06-13\", \"2010-05-07\", \"2011-05-06\", \"2011-07-22\", \"2012-05-04\", \"2013-05-03\", \"2013-11-08\", \"2014-04-04\", \"2014-08-01\", \"2015-05-01\", \"2015-07-17\", \"2016-05-06\", \"2016-11-04\", \"2017-05-05\", \"2017-07-07\", \"2017-11-03\", \"2018-02-16\", \"2018-04-27\", \"2018-07-06\", \"2019-03-08\", \"2019-05-03\", \"2019-07-05\", \"2020-01-01\"], \"y\": [186000000, 137500000, 170000000, 150000000, 140000000, 225000000, 200000000, 150000000, 170000000, 170000000, 330600000, 130000000, 250000000, 165000000, 200000000, 175000000, 180000000, 200000000, 300000000, 130000000, 0, 0, 0, 0], \"type\": \"scatter\", \"uid\": \"a001d66d-7d0a-4454-a451-7ed5e80cf02c\"}, {\"hoverlabel\": {\"bgcolor\": \"#17BECF\"}, \"hovertext\": [\"Iron Man\", \"The Incredible Hulk\", \"Iron Man 2\", \"Thor\", \"Captain America: The First Avenger\", \"The Avengers\", \"Iron Man 3\", \"Thor: The Dark World\", \"Captain America: The Winter Soldier\", \"Guardians of the Galaxy\", \"Avengers: Age of Ultron\", \"Ant-Man\", \"Captain America: Civil War\", \"Doctor Strange\", \"Guardians of the Galaxy Vol 2\", \"Spider-Man: Homecoming\", \"Thor: Ragnarok\", \"Black Panther\", \"Avengers: Infinity War\", \"Ant-Man and the Wasp\", \"Captain Marvel\", \"Avengers: End Game\", \"Spider-Man: Far From Home\", \"Guardians of the Galaxy Vol 3\"], \"line\": {\"color\": \"#17BECF\"}, \"marker\": {\"size\": 10, \"symbol\": \"star\"}, \"mode\": \"lines+markers\", \"name\": \"Worldwide Box Office Collection\", \"opacity\": 0.8, \"x\": [\"2008-05-02\", \"2008-06-13\", \"2010-05-07\", \"2011-05-06\", \"2011-07-22\", \"2012-05-04\", \"2013-05-03\", \"2013-11-08\", \"2014-04-04\", \"2014-08-01\", \"2015-05-01\", \"2015-07-17\", \"2016-05-06\", \"2016-11-04\", \"2017-05-05\", \"2017-07-07\", \"2017-11-03\", \"2018-02-16\", \"2018-04-27\", \"2018-07-06\", \"2019-03-08\", \"2019-05-03\", \"2019-07-05\", \"2020-01-01\"], \"y\": [585171547, 265573859, 621156389, 449326618, 370569776, 1517935897, 1215392272, 644602516, 714401889, 770867516, 1403013963, 518860086, 1140081024, 676486457, 862317259, 880070886, 846980024, 1347071259, 2008425124, 617260330, 0, 0, 0, 0], \"type\": \"scatter\", \"uid\": \"5c1e73be-a6a9-4415-a25f-f70eb13ae168\"}, {\"hoverlabel\": {\"bgcolor\": \"#E74C3C\"}, \"hovertext\": [\"Iron Man\", \"The Incredible Hulk\", \"Iron Man 2\", \"Thor\", \"Captain America: The First Avenger\", \"The Avengers\", \"Iron Man 3\", \"Thor: The Dark World\", \"Captain America: The Winter Soldier\", \"Guardians of the Galaxy\", \"Avengers: Age of Ultron\", \"Ant-Man\", \"Captain America: Civil War\", \"Doctor Strange\", \"Guardians of the Galaxy Vol 2\", \"Spider-Man: Homecoming\", \"Thor: Ragnarok\", \"Black Panther\", \"Avengers: Infinity War\", \"Ant-Man and the Wasp\", \"Captain Marvel\", \"Avengers: End Game\", \"Spider-Man: Far From Home\", \"Guardians of the Galaxy Vol 3\"], \"line\": {\"color\": \"#E74C3C\"}, \"marker\": {\"size\": 10, \"symbol\": \"star\"}, \"mode\": \"lines+markers\", \"name\": \"Domestic Box Office Collection\", \"opacity\": 0.8, \"x\": [\"2008-05-02\", \"2008-06-13\", \"2010-05-07\", \"2011-05-06\", \"2011-07-22\", \"2012-05-04\", \"2013-05-03\", \"2013-11-08\", \"2014-04-04\", \"2014-08-01\", \"2015-05-01\", \"2015-07-17\", \"2016-05-06\", \"2016-11-04\", \"2017-05-05\", \"2017-07-07\", \"2017-11-03\", \"2018-02-16\", \"2018-04-27\", \"2018-07-06\", \"2019-03-08\", \"2019-05-03\", \"2019-07-05\", \"2020-01-01\"], \"y\": [318604126, 134806913, 312433331, 181030624, 176654505, 623279547, 408992272, 206362140, 259746958, 333172112, 459005868, 180202163, 408084349, 232641920, 389813101, 334201140, 315058289, 700059566, 678815482, 216648740, 0, 0, 0, 0], \"type\": \"scatter\", \"uid\": \"a03be874-b953-4c00-a1f3-d9db9b425e55\"}, {\"hoverlabel\": {\"bgcolor\": \"#F4D03F\"}, \"hovertext\": [\"Iron Man\", \"The Incredible Hulk\", \"Iron Man 2\", \"Thor\", \"Captain America: The First Avenger\", \"The Avengers\", \"Iron Man 3\", \"Thor: The Dark World\", \"Captain America: The Winter Soldier\", \"Guardians of the Galaxy\", \"Avengers: Age of Ultron\", \"Ant-Man\", \"Captain America: Civil War\", \"Doctor Strange\", \"Guardians of the Galaxy Vol 2\", \"Spider-Man: Homecoming\", \"Thor: Ragnarok\", \"Black Panther\", \"Avengers: Infinity War\", \"Ant-Man and the Wasp\", \"Captain Marvel\", \"Avengers: End Game\", \"Spider-Man: Far From Home\", \"Guardians of the Galaxy Vol 3\"], \"line\": {\"color\": \"#F4D03F\"}, \"marker\": {\"size\": 10, \"symbol\": \"star\"}, \"mode\": \"lines+markers\", \"name\": \"Opening Weekend Collection\", \"opacity\": 0.8, \"x\": [\"2008-05-02\", \"2008-06-13\", \"2010-05-07\", \"2011-05-06\", \"2011-07-22\", \"2012-05-04\", \"2013-05-03\", \"2013-11-08\", \"2014-04-04\", \"2014-08-01\", \"2015-05-01\", \"2015-07-17\", \"2016-05-06\", \"2016-11-04\", \"2017-05-05\", \"2017-07-07\", \"2017-11-03\", \"2018-02-16\", \"2018-04-27\", \"2018-07-06\", \"2019-03-08\", \"2019-05-03\", \"2019-07-05\", \"2020-01-01\"], \"y\": [102118668, 55414050, 128122480, 65723338, 65058524, 207438708, 174144585, 85737841, 95023721, 94320883, 191271109, 57225526, 179139142, 85058311, 146510104, 117027503, 122744989, 202003951, 257698183, 75812205, 0, 0, 0, 0], \"type\": \"scatter\", \"uid\": \"d14b73f9-9b38-4cbb-a260-6da388ba649c\"}], {\"title\": \"Marvel Movie Collection in USD\", \"updatemenus\": [{\"active\": 3, \"buttons\": [{\"args\": [{\"visible\": [true, true, false, false]}], \"label\": \"World Box Office Collection\", \"method\": \"update\"}, {\"args\": [{\"visible\": [true, false, true, false]}], \"label\": \"Domestic Box Office Collection\", \"method\": \"update\"}, {\"args\": [{\"visible\": [true, false, false, true]}], \"label\": \"Opening Weekend Collection\", \"method\": \"update\"}, {\"args\": [{\"visible\": [true, true, true, true]}], \"label\": \"Reset\", \"method\": \"update\"}]}], \"xaxis\": {\"range\": [1167609600000.0, 1609459200000.0], \"ticks\": \"inside\", \"title\": \"Date Released\"}, \"yaxis\": {\"ticks\": \"inside\", \"title\": \"Amount in USD\"}}, {\"showLink\": true, \"linkText\": \"Export to plot.ly\"})});</script><script type=\"text/javascript\">window.addEventListener(\"resize\", function(){window._Plotly.Plots.resize(document.getElementById(\"eeaebb9c-8aa8-4f5f-85af-f5389259bd30\"));});</script>"
      ],
      "text/vnd.plotly.v1+html": [
       "<div id=\"eeaebb9c-8aa8-4f5f-85af-f5389259bd30\" style=\"height: 525px; width: 100%;\" class=\"plotly-graph-div\"></div><script type=\"text/javascript\">require([\"plotly\"], function(Plotly) { window.PLOTLYENV=window.PLOTLYENV || {};window.PLOTLYENV.BASE_URL=\"https://plot.ly\";Plotly.newPlot(\"eeaebb9c-8aa8-4f5f-85af-f5389259bd30\", [{\"hoverlabel\": {\"bgcolor\": \"#7F7F7F\"}, \"hovertext\": [\"Iron Man\", \"The Incredible Hulk\", \"Iron Man 2\", \"Thor\", \"Captain America: The First Avenger\", \"The Avengers\", \"Iron Man 3\", \"Thor: The Dark World\", \"Captain America: The Winter Soldier\", \"Guardians of the Galaxy\", \"Avengers: Age of Ultron\", \"Ant-Man\", \"Captain America: Civil War\", \"Doctor Strange\", \"Guardians of the Galaxy Vol 2\", \"Spider-Man: Homecoming\", \"Thor: Ragnarok\", \"Black Panther\", \"Avengers: Infinity War\", \"Ant-Man and the Wasp\", \"Captain Marvel\", \"Avengers: End Game\", \"Spider-Man: Far From Home\", \"Guardians of the Galaxy Vol 3\"], \"line\": {\"color\": \"#7F7F7F\"}, \"marker\": {\"size\": 10, \"symbol\": \"star\"}, \"mode\": \"lines+markers\", \"name\": \"Production Budget\", \"opacity\": 0.8, \"x\": [\"2008-05-02\", \"2008-06-13\", \"2010-05-07\", \"2011-05-06\", \"2011-07-22\", \"2012-05-04\", \"2013-05-03\", \"2013-11-08\", \"2014-04-04\", \"2014-08-01\", \"2015-05-01\", \"2015-07-17\", \"2016-05-06\", \"2016-11-04\", \"2017-05-05\", \"2017-07-07\", \"2017-11-03\", \"2018-02-16\", \"2018-04-27\", \"2018-07-06\", \"2019-03-08\", \"2019-05-03\", \"2019-07-05\", \"2020-01-01\"], \"y\": [186000000, 137500000, 170000000, 150000000, 140000000, 225000000, 200000000, 150000000, 170000000, 170000000, 330600000, 130000000, 250000000, 165000000, 200000000, 175000000, 180000000, 200000000, 300000000, 130000000, 0, 0, 0, 0], \"type\": \"scatter\", \"uid\": \"a001d66d-7d0a-4454-a451-7ed5e80cf02c\"}, {\"hoverlabel\": {\"bgcolor\": \"#17BECF\"}, \"hovertext\": [\"Iron Man\", \"The Incredible Hulk\", \"Iron Man 2\", \"Thor\", \"Captain America: The First Avenger\", \"The Avengers\", \"Iron Man 3\", \"Thor: The Dark World\", \"Captain America: The Winter Soldier\", \"Guardians of the Galaxy\", \"Avengers: Age of Ultron\", \"Ant-Man\", \"Captain America: Civil War\", \"Doctor Strange\", \"Guardians of the Galaxy Vol 2\", \"Spider-Man: Homecoming\", \"Thor: Ragnarok\", \"Black Panther\", \"Avengers: Infinity War\", \"Ant-Man and the Wasp\", \"Captain Marvel\", \"Avengers: End Game\", \"Spider-Man: Far From Home\", \"Guardians of the Galaxy Vol 3\"], \"line\": {\"color\": \"#17BECF\"}, \"marker\": {\"size\": 10, \"symbol\": \"star\"}, \"mode\": \"lines+markers\", \"name\": \"Worldwide Box Office Collection\", \"opacity\": 0.8, \"x\": [\"2008-05-02\", \"2008-06-13\", \"2010-05-07\", \"2011-05-06\", \"2011-07-22\", \"2012-05-04\", \"2013-05-03\", \"2013-11-08\", \"2014-04-04\", \"2014-08-01\", \"2015-05-01\", \"2015-07-17\", \"2016-05-06\", \"2016-11-04\", \"2017-05-05\", \"2017-07-07\", \"2017-11-03\", \"2018-02-16\", \"2018-04-27\", \"2018-07-06\", \"2019-03-08\", \"2019-05-03\", \"2019-07-05\", \"2020-01-01\"], \"y\": [585171547, 265573859, 621156389, 449326618, 370569776, 1517935897, 1215392272, 644602516, 714401889, 770867516, 1403013963, 518860086, 1140081024, 676486457, 862317259, 880070886, 846980024, 1347071259, 2008425124, 617260330, 0, 0, 0, 0], \"type\": \"scatter\", \"uid\": \"5c1e73be-a6a9-4415-a25f-f70eb13ae168\"}, {\"hoverlabel\": {\"bgcolor\": \"#E74C3C\"}, \"hovertext\": [\"Iron Man\", \"The Incredible Hulk\", \"Iron Man 2\", \"Thor\", \"Captain America: The First Avenger\", \"The Avengers\", \"Iron Man 3\", \"Thor: The Dark World\", \"Captain America: The Winter Soldier\", \"Guardians of the Galaxy\", \"Avengers: Age of Ultron\", \"Ant-Man\", \"Captain America: Civil War\", \"Doctor Strange\", \"Guardians of the Galaxy Vol 2\", \"Spider-Man: Homecoming\", \"Thor: Ragnarok\", \"Black Panther\", \"Avengers: Infinity War\", \"Ant-Man and the Wasp\", \"Captain Marvel\", \"Avengers: End Game\", \"Spider-Man: Far From Home\", \"Guardians of the Galaxy Vol 3\"], \"line\": {\"color\": \"#E74C3C\"}, \"marker\": {\"size\": 10, \"symbol\": \"star\"}, \"mode\": \"lines+markers\", \"name\": \"Domestic Box Office Collection\", \"opacity\": 0.8, \"x\": [\"2008-05-02\", \"2008-06-13\", \"2010-05-07\", \"2011-05-06\", \"2011-07-22\", \"2012-05-04\", \"2013-05-03\", \"2013-11-08\", \"2014-04-04\", \"2014-08-01\", \"2015-05-01\", \"2015-07-17\", \"2016-05-06\", \"2016-11-04\", \"2017-05-05\", \"2017-07-07\", \"2017-11-03\", \"2018-02-16\", \"2018-04-27\", \"2018-07-06\", \"2019-03-08\", \"2019-05-03\", \"2019-07-05\", \"2020-01-01\"], \"y\": [318604126, 134806913, 312433331, 181030624, 176654505, 623279547, 408992272, 206362140, 259746958, 333172112, 459005868, 180202163, 408084349, 232641920, 389813101, 334201140, 315058289, 700059566, 678815482, 216648740, 0, 0, 0, 0], \"type\": \"scatter\", \"uid\": \"a03be874-b953-4c00-a1f3-d9db9b425e55\"}, {\"hoverlabel\": {\"bgcolor\": \"#F4D03F\"}, \"hovertext\": [\"Iron Man\", \"The Incredible Hulk\", \"Iron Man 2\", \"Thor\", \"Captain America: The First Avenger\", \"The Avengers\", \"Iron Man 3\", \"Thor: The Dark World\", \"Captain America: The Winter Soldier\", \"Guardians of the Galaxy\", \"Avengers: Age of Ultron\", \"Ant-Man\", \"Captain America: Civil War\", \"Doctor Strange\", \"Guardians of the Galaxy Vol 2\", \"Spider-Man: Homecoming\", \"Thor: Ragnarok\", \"Black Panther\", \"Avengers: Infinity War\", \"Ant-Man and the Wasp\", \"Captain Marvel\", \"Avengers: End Game\", \"Spider-Man: Far From Home\", \"Guardians of the Galaxy Vol 3\"], \"line\": {\"color\": \"#F4D03F\"}, \"marker\": {\"size\": 10, \"symbol\": \"star\"}, \"mode\": \"lines+markers\", \"name\": \"Opening Weekend Collection\", \"opacity\": 0.8, \"x\": [\"2008-05-02\", \"2008-06-13\", \"2010-05-07\", \"2011-05-06\", \"2011-07-22\", \"2012-05-04\", \"2013-05-03\", \"2013-11-08\", \"2014-04-04\", \"2014-08-01\", \"2015-05-01\", \"2015-07-17\", \"2016-05-06\", \"2016-11-04\", \"2017-05-05\", \"2017-07-07\", \"2017-11-03\", \"2018-02-16\", \"2018-04-27\", \"2018-07-06\", \"2019-03-08\", \"2019-05-03\", \"2019-07-05\", \"2020-01-01\"], \"y\": [102118668, 55414050, 128122480, 65723338, 65058524, 207438708, 174144585, 85737841, 95023721, 94320883, 191271109, 57225526, 179139142, 85058311, 146510104, 117027503, 122744989, 202003951, 257698183, 75812205, 0, 0, 0, 0], \"type\": \"scatter\", \"uid\": \"d14b73f9-9b38-4cbb-a260-6da388ba649c\"}], {\"title\": \"Marvel Movie Collection in USD\", \"updatemenus\": [{\"active\": 3, \"buttons\": [{\"args\": [{\"visible\": [true, true, false, false]}], \"label\": \"World Box Office Collection\", \"method\": \"update\"}, {\"args\": [{\"visible\": [true, false, true, false]}], \"label\": \"Domestic Box Office Collection\", \"method\": \"update\"}, {\"args\": [{\"visible\": [true, false, false, true]}], \"label\": \"Opening Weekend Collection\", \"method\": \"update\"}, {\"args\": [{\"visible\": [true, true, true, true]}], \"label\": \"Reset\", \"method\": \"update\"}]}], \"xaxis\": {\"range\": [1167609600000.0, 1609459200000.0], \"ticks\": \"inside\", \"title\": \"Date Released\"}, \"yaxis\": {\"ticks\": \"inside\", \"title\": \"Amount in USD\"}}, {\"showLink\": true, \"linkText\": \"Export to plot.ly\"})});</script><script type=\"text/javascript\">window.addEventListener(\"resize\", function(){window._Plotly.Plots.resize(document.getElementById(\"eeaebb9c-8aa8-4f5f-85af-f5389259bd30\"));});</script>"
      ]
     },
     "metadata": {},
     "output_type": "display_data"
    }
   ],
   "source": [
    "def to_unix_time(dt):\n",
    "    epoch =  datetime.datetime.utcfromtimestamp(0)\n",
    "    return (dt - epoch).total_seconds() * 1000\n",
    "\n",
    "\n",
    "movie = df1['TITLE']\n",
    "images = df1['IMAGES']\n",
    "prodBudget = go.Scatter(\n",
    "            x=df1['RELEASE DATE'],\n",
    "            y=df1['PRODUCTION BUDGET'],\n",
    "            name = \"Production Budget\",\n",
    "            line = dict(color = '#7F7F7F'),\n",
    "            opacity = 0.8,\n",
    "            mode='lines+markers', \n",
    "            hovertext=movie,\n",
    "            hoverlabel=dict(bgcolor='#7F7F7F'),\n",
    "            marker=dict(symbol = \"star\",size =10)\n",
    "        )\n",
    "\n",
    "worldBox = go.Scatter(\n",
    "            x=df1['RELEASE DATE'],\n",
    "            y=df1['WORLDWIDE BOX OFFICE'],\n",
    "            name = \"Worldwide Box Office Collection\",\n",
    "            line = dict(color = '#17BECF'),\n",
    "            opacity = 0.8,\n",
    "            mode='lines+markers', \n",
    "            hovertext=movie,\n",
    "            hoverlabel=dict(bgcolor='#17BECF'),\n",
    "            marker=dict(symbol = \"star\", size = 10 ),\n",
    "            \n",
    ")\n",
    "openWeek = go.Scatter(\n",
    "            x=df1['RELEASE DATE'],\n",
    "            y=df1['OPENING WEEKEND'],\n",
    "            name = \"Opening Weekend Collection\",\n",
    "            line = dict(color = '#F4D03F'),\n",
    "            opacity = 0.8,\n",
    "            mode='lines+markers', \n",
    "            hovertext=movie,\n",
    "            hoverlabel=dict(bgcolor='#F4D03F'),\n",
    "            marker=dict(symbol = \"star\", size = 10 ),\n",
    "            \n",
    ")\n",
    "domesticBox = go.Scatter(\n",
    "            x=df1['RELEASE DATE'],\n",
    "            y=df1['DOMESTIC BOX OFFICE'],\n",
    "            name = \"Domestic Box Office Collection\",\n",
    "            line = dict(color = '#E74C3C'),\n",
    "            opacity = 0.8,\n",
    "            mode='lines+markers', \n",
    "            hovertext=movie,\n",
    "            hoverlabel=dict(bgcolor='#E74C3C'),\n",
    "            marker=dict(symbol = \"star\", size = 10 ),\n",
    "            \n",
    ")\n",
    "\n",
    "data = [prodBudget,worldBox,domesticBox,openWeek]\n",
    "\n",
    "updatemenus = list([\n",
    "    dict(active=3,\n",
    "         buttons=list([   \n",
    "            dict(label = 'World Box Office Collection',\n",
    "                 method = 'update',\n",
    "                 args = [{'visible': [True, True, False, False]},\n",
    "                         ]),\n",
    "            dict(label = 'Domestic Box Office Collection',\n",
    "                 method = 'update',\n",
    "                 args = [{'visible': [True, False, True, False]},\n",
    "                         ]),\n",
    "            dict(label = 'Opening Weekend Collection',\n",
    "                 method = 'update',\n",
    "                 args = [{'visible': [True, False, False, True]},\n",
    "                         ]),\n",
    "            dict(label = 'Reset',\n",
    "                 method = 'update',\n",
    "                 args = [{'visible': [True, True, True, True]},\n",
    "                         ])\n",
    "        ]),\n",
    "    )\n",
    "])\n",
    "\n",
    "layout = go.Layout(    \n",
    "                   title=\"Marvel Movie Collection in USD\" ,yaxis =dict(title = 'Amount in USD',ticks = \"inside\" ),\n",
    "                   xaxis =dict(range = [to_unix_time(datetime.datetime(2007, 1, 1)),\n",
    "                                        to_unix_time(datetime.datetime(2021, 1, 1))],\n",
    "                                        title= 'Date Released',ticks = \"inside\"),updatemenus=updatemenus\n",
    "                  )\n",
    "\n",
    "\n",
    "fig = go.Figure(data = data, layout = layout)\n",
    "\n",
    "plotly.offline.iplot(fig,filename=\"Marvel Movie Collection In USD\")"
   ]
  },
  {
   "cell_type": "markdown",
   "metadata": {},
   "source": [
    "# Logarithmic Bubble Scatter Plot"
   ]
  },
  {
   "cell_type": "code",
   "execution_count": 3,
   "metadata": {},
   "outputs": [
    {
     "data": {
      "application/vnd.plotly.v1+json": {
       "data": [
        {
         "marker": {
          "color": "#E65100",
          "line": {
           "width": 2
          },
          "size": [
           20,
           15,
           15,
           10,
           10,
           10,
           10,
           10,
           10,
           10,
           10,
           10,
           10,
           10,
           10,
           10,
           10,
           10,
           10,
           10,
           10,
           10
          ],
          "sizemode": "area",
          "sizeref": 0.02
         },
         "mode": "markers",
         "name": "Franchise/Career Above 90%",
         "text": [
          "Name: Tom Holland <br>Character: Peter Parker/Spider-Man <br>No. Of Appearances: 4 <br>Franchise/Career : 93.5 %",
          "Name: Chadwick Boseman <br>Character: T’Challa/Black Panther <br>No. Of Appearances: 3 <br>Franchise/Career : 93.60000000000001 %",
          "Name: Maximiliano Hernández <br>Character: Agent Jasper Sitwell <br>No. Of Appearances: 3 <br>Franchise/Career : 96.1 %",
          "Name: Danai Gurira <br>Character: Okoye <br>No. Of Appearances: 2 <br>Franchise/Career : 97.89999999999999 %",
          "Name: Emily VanCamp <br>Character: Agent 13 <br>No. Of Appearances: 2 <br>Franchise/Career : 91.9 %",
          "Name: Jaimie Alexander <br>Character: Sif <br>No. Of Appearances: 2 <br>Franchise/Career : 95.7 %",
          "Name: Jenny Agutter <br>Character: World Security Council <br>No. Of Appearances: 2 <br>Franchise/Career : 95.8 %",
          "Name: Sean Gunn <br>Character: Kraglin <br>No. Of Appearances: 2 <br>Franchise/Career : 99.3 %",
          "Name: Abby Ryder Fortson <br>Character: Cassie Lang <br>No. Of Appearances: 2 <br>Franchise/Career : 98.6 %",
          "Name: John Kani <br>Character: T’Chaka <br>No. Of Appearances: 2 <br>Franchise/Career : 100.0 %",
          "Name: Pom Klementieff <br>Character: Mantis <br>No. Of Appearances: 2 <br>Franchise/Career : 99.8 %",
          "Name: Jacob Batalon <br>Character: Ned Leeds <br>No. Of Appearances: 2 <br>Franchise/Career : 96.3 %",
          "Name: Winston Duke <br>Character: M’Baku/Man-Ape <br>No. Of Appearances: 2 <br>Franchise/Career : 100.0 %",
          "Name: Isabella Amara <br>Character: Sally Avril <br>No. Of Appearances: 2 <br>Franchise/Career : 95.6 %",
          "Name: Gozie Agbo <br>Character: Theo Broussard <br>No. Of Appearances: 2 <br>Franchise/Career : 100.0 %",
          "Name: Kerry Condon <br>Character: F.R.I.D.A.Y. <br>No. Of Appearances: 2 <br>Franchise/Career : 93.30000000000001 %",
          "Name: Alexis Denisof <br>Character: The Other <br>No. Of Appearances: 2 <br>Franchise/Career : 99.8 %",
          "Name: Brian Schaeffer <br>Character: Strucker Mercenary <br>No. Of Appearances: 2 <br>Franchise/Career : 100.0 %",
          "Name: Tiffany Espensen <br>Character: Cindy <br>No. Of Appearances: 2 <br>Franchise/Career : 92.10000000000001 %",
          "Name: Stephen Blackehart <br>Character: Brahl <br>No. Of Appearances: 2 <br>Franchise/Career : 99.3 %",
          "Name: Stephen McFeely <br>Character: SHIELD Interrogator #2 <br>No. Of Appearances: 2 <br>Franchise/Career : 100.0 %",
          "Name: Rob Zombie <br>Character: Himself <br>No. Of Appearances: 2 <br>Franchise/Career : 98.9 %"
         ],
         "type": "scatter",
         "uid": "40a8ac2a-a710-4bd8-b171-9c853a75e4c5",
         "x": [
          4308265534,
          4805204167,
          2790277669,
          3427258645,
          2016937426,
          1143153656,
          2330069674,
          1644006160,
          1152496482,
          2487152283,
          2877259152,
          2999157594,
          3355496383,
          3022329761,
          1854482913,
          3375822712,
          2293132263,
          2024170352,
          3137523386,
          1643988614,
          2722827013,
          1651136986
         ],
         "y": [
          4028577034,
          4495577407,
          2681664404,
          3355496383,
          1854482913,
          1093929134,
          2232337786,
          1633184775,
          1136120416,
          2487152283,
          2870742383,
          2888496010,
          3355496383,
          2888496010,
          1854482913,
          3148506148,
          2288803413,
          2024170352,
          2888496010,
          1633184775,
          2722827013,
          1633184775
         ]
        },
        {
         "marker": {
          "color": "#FF8F00",
          "line": {
           "width": 2
          },
          "size": [
           40,
           25,
           25,
           25,
           25,
           15,
           10,
           10
          ],
          "sizemode": "area",
          "sizeref": 0.02
         },
         "mode": "markers",
         "name": "Franchise/Career Above 80%",
         "text": [
          "Name: Chris Evans <br>Character: Steve Rogers / Captain America <br>No. Of Appearances: 8 <br>Franchise/Career : 85.39999999999999 %",
          "Name: Sebastian Stan <br>Character: Bucky Barnes/Winter Soldier <br>No. Of Appearances: 5 <br>Franchise/Career : 82.8 %",
          "Name: Tom Hiddleston <br>Character: Loki <br>No. Of Appearances: 5 <br>Franchise/Career : 83.3 %",
          "Name: Clark Gregg <br>Character: Agent Coulson <br>No. Of Appearances: 5 <br>Franchise/Career : 81.0 %",
          "Name: Cobie Smulders <br>Character: Maria Hill <br>No. Of Appearances: 5 <br>Franchise/Career : 87.2 %",
          "Name: Elizabeth Olsen <br>Character: Wanda Maximoff/Scarlet Witch <br>No. Of Appearances: 3 <br>Franchise/Career : 88.0 %",
          "Name: Letitia Wright <br>Character: Shuri <br>No. Of Appearances: 2 <br>Franchise/Career : 83.1 %",
          "Name: Florence Kasumba <br>Character: Ayo <br>No. Of Appearances: 2 <br>Franchise/Career : 80.30000000000001 %"
         ],
         "type": "scatter",
         "uid": "37c6d9e5-303c-48a8-801d-4a8a731311e1",
         "x": [
          9411837504,
          5113057798,
          6560862669,
          3919638599,
          6473584057,
          5175016525,
          4036236717,
          4176629761
         ],
         "y": [
          8034498559,
          4233477813,
          5467270179,
          3173590451,
          5643776873,
          4551520111,
          3355496383,
          3355496383
         ]
        },
        {
         "marker": {
          "color": "#FBC02D",
          "line": {
           "width": 2
          },
          "size": [
           50,
           35,
           30,
           30,
           20,
           20,
           20,
           15,
           15,
           15,
           10,
           10,
           10
          ],
          "sizemode": "area",
          "sizeref": 0.02
         },
         "mode": "markers",
         "name": "Franchise/Career Above 70%",
         "text": [
          "Name: Robert Downey Jr. <br>Character: Tony Stark/Iron Man <br>No. Of Appearances: 10 <br>Franchise/Career : 78.60000000000001 %",
          "Name: Gwyneth Paltrow <br>Character: Pepper Potts <br>No. Of Appearances: 7 <br>Franchise/Career : 75.6 %",
          "Name: Chris Hemsworth <br>Character: Thor <br>No. Of Appearances: 6 <br>Franchise/Career : 79.9 %",
          "Name: Paul Bettany <br>Character: Vision <br>No. Of Appearances: 6 <br>Franchise/Career : 74.9 %",
          "Name: Mark Ruffalo <br>Character: Bruce Banner / The Hulk <br>No. Of Appearances: 4 <br>Franchise/Career : 71.2 %",
          "Name: Anthony Mackie <br>Character: Sam Wilson/Falcon <br>No. Of Appearances: 4 <br>Franchise/Career : 72.3 %",
          "Name: Hayley Atwell <br>Character: Peggy Carter <br>No. Of Appearances: 4 <br>Franchise/Career : 78.60000000000001 %",
          "Name: Dave Bautista <br>Character: Drax the Destroyer <br>No. Of Appearances: 3 <br>Franchise/Career : 73.8 %",
          "Name: Tadanobu Asano <br>Character: Hogun <br>No. Of Appearances: 3 <br>Franchise/Career : 79.3 %",
          "Name: Karen Gillan <br>Character: Nebula <br>No. Of Appearances: 3 <br>Franchise/Career : 75.5 %",
          "Name: Tony Revolori <br>Character: Flash Thompson <br>No. Of Appearances: 2 <br>Franchise/Career : 74.3 %",
          "Name: Laura Haddock <br>Character: Meredith Quill <br>No. Of Appearances: 2 <br>Franchise/Career : 70.3 %",
          "Name: Jamie McShane <br>Character: Agent Jackson <br>No. Of Appearances: 2 <br>Franchise/Career : 75.3 %"
         ],
         "type": "scatter",
         "uid": "1359acf5-2b33-449e-b156-7878484d20b9",
         "x": [
          12260462709,
          9030242330,
          8601823064,
          10554732068,
          8116840958,
          7282287347,
          3824157433,
          4934853046,
          2448192095,
          4821352198,
          1184797219,
          2322822391,
          2613304879
         ],
         "y": [
          9636820961,
          6828152115,
          6870284142,
          7906004669,
          5776355008,
          5265922000,
          3006845714,
          3641609899,
          1940909158,
          3641609899,
          880070886,
          1633184775,
          1967262515
         ]
        },
        {
         "marker": {
          "color": "#C0CA33",
          "line": {
           "width": 2
          },
          "size": [
           100,
           30,
           25,
           25,
           15,
           15,
           10,
           10,
           10,
           10,
           10
          ],
          "sizemode": "area",
          "sizeref": 0.02
         },
         "mode": "markers",
         "name": "Franchise/Career Above 60%",
         "text": [
          "Name: Stan Lee <br>Character: Himself <br>No. Of Appearances: 20 <br>Franchise/Career : 66.5 %",
          "Name: Scarlett Johansson <br>Character: Natasha Romanoff/Black Widow <br>No. Of Appearances: 6 <br>Franchise/Career : 63.3 %",
          "Name: Don Cheadle <br>Character: Lt. Col. James \"Rhodey\" Rhodes <br>No. Of Appearances: 5 <br>Franchise/Career : 67.7 %",
          "Name: Jeremy Renner <br>Character: Clint Barton/Hawkeye <br>No. Of Appearances: 5 <br>Franchise/Career : 66.60000000000001 %",
          "Name: John Slattery <br>Character: Howard Stark <br>No. Of Appearances: 3 <br>Franchise/Career : 64.60000000000001 %",
          "Name: William Hurt <br>Character: Gen. Thaddeus 'Thunderbolt' Ross <br>No. Of Appearances: 3 <br>Franchise/Career : 60.699999999999996 %",
          "Name: Kat Dennings <br>Character: Darcy Lewis <br>No. Of Appearances: 2 <br>Franchise/Career : 69.89999999999999 %",
          "Name: T.I. Tip Harris <br>Character: Dave <br>No. Of Appearances: 2 <br>Franchise/Career : 68.5 %",
          "Name: Benedict Wong <br>Character: Master Wong <br>No. Of Appearances: 2 <br>Franchise/Career : 60.3 %",
          "Name: Zack Duhame <br>Character: Engine Pirate <br>No. Of Appearances: 2 <br>Franchise/Career : 69.1 %",
          "Name: Pat Kiernan <br>Character: Himself <br>No. Of Appearances: 2 <br>Franchise/Career : 60.6 %"
         ],
         "type": "scatter",
         "uid": "b9c46f24-fae7-4644-833d-0b74d568fe96",
         "x": [
          26241821085,
          11690053101,
          9432121645,
          9108137248,
          3528843138,
          5626120616,
          1564662678,
          1658408690,
          4453545768,
          1785270342,
          3619553208
         ],
         "y": [
          17455564691,
          7405014286,
          6388068772,
          6069456008,
          2280097499,
          3414080007,
          1093929134,
          1136120416,
          2684911581,
          1233261975,
          2194422354
         ]
        },
        {
         "marker": {
          "color": "#8BC34A",
          "line": {
           "width": 2
          },
          "size": [
           20,
           15,
           10,
           10,
           10,
           10,
           10
          ],
          "sizemode": "area",
          "sizeref": 0.02
         },
         "mode": "markers",
         "name": "Franchise/Career Above 50%",
         "text": [
          "Name: Paul Rudd <br>Character: Scott Lang / Ant-Man <br>No. Of Appearances: 4 <br>Franchise/Career : 59.199999999999996 %",
          "Name: Ray Stevenson <br>Character: Volstagg <br>No. Of Appearances: 3 <br>Franchise/Career : 50.3 %",
          "Name: Michael Rooker <br>Character: Yondu Udonta <br>No. Of Appearances: 2 <br>Franchise/Career : 54.2 %",
          "Name: Leslie Bibb <br>Character: Christine Everhart <br>No. Of Appearances: 2 <br>Franchise/Career : 58.5 %",
          "Name: Frank Grillo <br>Character: Brock Rumlow <br>No. Of Appearances: 2 <br>Franchise/Career : 54.2 %",
          "Name: Zachary Levi <br>Character: Fandral <br>No. Of Appearances: 2 <br>Franchise/Career : 54.7 %",
          "Name: Benicio del Toro <br>Character: The Collector <br>No. Of Appearances: 2 <br>Franchise/Career : 50.3 %"
         ],
         "type": "scatter",
         "uid": "65440b51-6407-46ff-a89c-9e2d59c4f848",
         "x": [
          7243255381,
          3858795341,
          3012567769,
          2063129250,
          3423744147,
          2728370562,
          5523202685
         ],
         "y": [
          4284626564,
          1940909158,
          1633184775,
          1206327936,
          1854482913,
          1491582540,
          2779292640
         ]
        },
        {
         "marker": {
          "color": "#66BB6A",
          "line": {
           "width": 2
          },
          "size": [
           25,
           25,
           20,
           15,
           15,
           15,
           10,
           10,
           10,
           10,
           10
          ],
          "sizemode": "area",
          "sizeref": 0.02
         },
         "mode": "markers",
         "name": "Franchise/Career Above 40%",
         "text": [
          "Name: Jon Favreau <br>Character: Happy Hogan <br>No. Of Appearances: 5 <br>Franchise/Career : 40.6 %",
          "Name: Idris Elba <br>Character: Heimdall <br>No. Of Appearances: 5 <br>Franchise/Career : 48.4 %",
          "Name: Stellan Skarsgård <br>Character: Erik Selvig <br>No. Of Appearances: 4 <br>Franchise/Career : 42.5 %",
          "Name: Benedict Cumberbatch <br>Character: Stephen Strange <br>No. Of Appearances: 3 <br>Franchise/Career : 41.099999999999994 %",
          "Name: Chris Pratt <br>Character: Peter Quill/Star-Lord <br>No. Of Appearances: 3 <br>Franchise/Career : 43.4 %",
          "Name: Bradley Cooper <br>Character: Rocket <br>No. Of Appearances: 3 <br>Franchise/Career : 44.1 %",
          "Name: David Dastmalchian <br>Character: Kurt <br>No. Of Appearances: 2 <br>Franchise/Career : 45.1 %",
          "Name: Martin Freeman <br>Character: Everett K. Ross <br>No. Of Appearances: 2 <br>Franchise/Career : 40.5 %",
          "Name: Marisa Tomei <br>Character: Aunt May <br>No. Of Appearances: 2 <br>Franchise/Career : 47.199999999999996 %",
          "Name: Kenneth Choi <br>Character: Jim Morita <br>No. Of Appearances: 2 <br>Franchise/Career : 49.6 %",
          "Name: Garry Shandling <br>Character: Senator Stern <br>No. Of Appearances: 2 <br>Franchise/Career : 43.9 %"
         ],
         "type": "scatter",
         "uid": "4db22047-f128-442b-a016-520a43239fc9",
         "x": [
          8132508295,
          11063888623,
          9452805170,
          8590632492,
          8390819291,
          8253934851,
          2521719222,
          6137010584,
          4282906606,
          2522731709,
          3045456746
         ],
         "y": [
          3301791094,
          5352348245,
          4014878994,
          3531891605,
          3641609899,
          3641609899,
          1136120416,
          2487152283,
          2020151910,
          1250640662,
          1335558278
         ]
        },
        {
         "marker": {
          "color": "#4DB6AC",
          "line": {
           "width": 2
          },
          "size": [
           50,
           15,
           15,
           15,
           15,
           10,
           10,
           10
          ],
          "sizemode": "area",
          "sizeref": 0.02
         },
         "mode": "markers",
         "name": "Franchise/Career Above 30%",
         "text": [
          "Name: Samuel L. Jackson <br>Character: Nick Fury <br>No. Of Appearances: 10 <br>Franchise/Career : 36.4 %",
          "Name: Evangeline Lilly <br>Character: Hope van Dyne/The Wasp <br>No. Of Appearances: 3 <br>Franchise/Career : 32.7 %",
          "Name: Anthony Hopkins <br>Character: Odin <br>No. Of Appearances: 3 <br>Franchise/Career : 30.8 %",
          "Name: Zoe Saldana <br>Character: Gamora <br>No. Of Appearances: 3 <br>Franchise/Career : 39.1 %",
          "Name: Vin Diesel <br>Character: Groot <br>No. Of Appearances: 3 <br>Franchise/Career : 34.2 %",
          "Name: Josh Brolin <br>Character: Thanos <br>No. Of Appearances: 2 <br>Franchise/Career : 36.7 %",
          "Name: Glenn Close <br>Character: Nova Prime <br>No. Of Appearances: 2 <br>Franchise/Career : 38.0 %",
          "Name: Rene Russo <br>Character: Frigga <br>No. Of Appearances: 2 <br>Franchise/Career : 33.0 %"
         ],
         "type": "scatter",
         "uid": "a566318a-302e-4afb-84c8-37cbccb5cf3b",
         "x": [
          21082254980,
          3470709312,
          6305846416,
          9309487925,
          10635265845,
          5471453900,
          4300409065,
          3314077144
         ],
         "y": [
          7670001203,
          1136120416,
          1940909158,
          3641609899,
          3641609899,
          2008425124,
          1633184775,
          1093929134
         ]
        },
        {
         "marker": {
          "color": "#80DEEA",
          "line": {
           "width": 2
          },
          "size": [
           10,
           10,
           10,
           10,
           10,
           10
          ],
          "sizemode": "area",
          "sizeref": 0.02
         },
         "mode": "markers",
         "name": "Franchise/Career Above 20%",
         "text": [
          "Name: Natalie Portman <br>Character: Jane Foster <br>No. Of Appearances: 2 <br>Franchise/Career : 20.1 %",
          "Name: Michael Peña <br>Character: Luis <br>No. Of Appearances: 2 <br>Franchise/Career : 23.200000000000003 %",
          "Name: Bobby Cannavale <br>Character: Paxton <br>No. Of Appearances: 2 <br>Franchise/Career : 27.800000000000004 %",
          "Name: Michael Douglas <br>Character: Dr. Hank Pym <br>No. Of Appearances: 2 <br>Franchise/Career : 29.7 %",
          "Name: Andy Serkis <br>Character: Ulysses Klaue <br>No. Of Appearances: 2 <br>Franchise/Career : 20.599999999999998 %",
          "Name: Jeff Goldblum <br>Character: Grandmaster <br>No. Of Appearances: 2 <br>Franchise/Career : 23.5 %"
         ],
         "type": "scatter",
         "uid": "f816be86-82bc-4123-a06a-773d833b6e86",
         "x": [
          5434555484,
          4893315781,
          4088243981,
          3824559353,
          13342259216,
          7288467008
         ],
         "y": [
          1093929134,
          1136120416,
          1136120416,
          1136120416,
          2750085222,
          1709297283
         ]
        },
        {
         "marker": {
          "color": "#B3E5FC",
          "line": {
           "width": 2
          },
          "size": [
           10,
           10,
           10,
           10
          ],
          "sizemode": "area",
          "sizeref": 0.02
         },
         "mode": "markers",
         "name": "Franchise/Career Above 10%",
         "text": [
          "Name: Judy Greer <br>Character: Maggie <br>No. Of Appearances: 2 <br>Franchise/Career : 18.0 %",
          "Name: Lee Pace <br>Character: Ronan <br>No. Of Appearances: 2 <br>Franchise/Career : 15.4 %",
          "Name: Toby Jones <br>Character: Armin Zola <br>No. Of Appearances: 2 <br>Franchise/Career : 13.700000000000001 %",
          "Name: Djimon Hounsou <br>Character: Korath <br>No. Of Appearances: 2 <br>Franchise/Career : 14.000000000000002 %"
         ],
         "type": "scatter",
         "uid": "c0425efb-4d6d-4e98-9a7e-d6948ebb2633",
         "x": [
          6307736324,
          5011787661,
          7914805186,
          5490995576
         ],
         "y": [
          1136120416,
          770867516,
          1084971665,
          770867516
         ]
        },
        {
         "marker": {
          "color": "#E3F2FD",
          "line": {
           "width": 2
          },
          "size": [
           10
          ],
          "sizemode": "area",
          "sizeref": 0.02
         },
         "mode": "markers",
         "name": "Franchise/Career Less Than 10%",
         "text": [
          "Name: Brie Larson <br>Character: Carol Danvers/Captain Marvel <br>No. Of Appearances: 2 <br>Franchise/Career : 0.0 %"
         ],
         "type": "scatter",
         "uid": "a0a3d038-d292-4466-be6a-829a6dd5a717",
         "x": [
          1226966183
         ],
         "y": [
          0
         ]
        }
       ],
       "layout": {
        "legend": {
         "bordercolor": "rgb(0, 0, 0)",
         "tracegroupgap": 10
        },
        "paper_bgcolor": "#FDFEFE",
        "plot_bgcolor": "rgb(243, 243, 243)",
        "title": "Celebrity Appearances with Franchise Collection over Career Collection",
        "xaxis": {
         "gridcolor": "#FDFEFE",
         "gridwidth": 1,
         "ticklen": 5,
         "title": "Career Worldwide Box Office",
         "type": "log",
         "zerolinewidth": 1
        },
        "yaxis": {
         "gridcolor": "#FDFEFE",
         "gridwidth": 1,
         "ticklen": 5,
         "title": "Franchise Worldwide Box Office",
         "zerolinewidth": 1
        }
       }
      },
      "text/html": [
       "<div id=\"7db37cdb-570e-4cd8-a6d5-edad81b689fd\" style=\"height: 525px; width: 100%;\" class=\"plotly-graph-div\"></div><script type=\"text/javascript\">require([\"plotly\"], function(Plotly) { window.PLOTLYENV=window.PLOTLYENV || {};window.PLOTLYENV.BASE_URL=\"https://plot.ly\";Plotly.newPlot(\"7db37cdb-570e-4cd8-a6d5-edad81b689fd\", [{\"marker\": {\"color\": \"#E65100\", \"line\": {\"width\": 2}, \"size\": [20, 15, 15, 10, 10, 10, 10, 10, 10, 10, 10, 10, 10, 10, 10, 10, 10, 10, 10, 10, 10, 10], \"sizemode\": \"area\", \"sizeref\": 0.02}, \"mode\": \"markers\", \"name\": \"Franchise/Career Above 90%\", \"text\": [\"Name: Tom Holland <br>Character: Peter Parker/Spider-Man <br>No. Of Appearances: 4 <br>Franchise/Career : 93.5 %\", \"Name: Chadwick Boseman <br>Character: T\\u2019Challa/Black Panther <br>No. Of Appearances: 3 <br>Franchise/Career : 93.60000000000001 %\", \"Name: Maximiliano Hern\\u00e1ndez <br>Character: Agent Jasper Sitwell <br>No. Of Appearances: 3 <br>Franchise/Career : 96.1 %\", \"Name: Danai Gurira <br>Character: Okoye <br>No. Of Appearances: 2 <br>Franchise/Career : 97.89999999999999 %\", \"Name: Emily VanCamp <br>Character: Agent 13 <br>No. Of Appearances: 2 <br>Franchise/Career : 91.9 %\", \"Name: Jaimie Alexander <br>Character: Sif <br>No. Of Appearances: 2 <br>Franchise/Career : 95.7 %\", \"Name: Jenny Agutter <br>Character: World Security Council <br>No. Of Appearances: 2 <br>Franchise/Career : 95.8 %\", \"Name: Sean Gunn <br>Character: Kraglin <br>No. Of Appearances: 2 <br>Franchise/Career : 99.3 %\", \"Name: Abby Ryder Fortson <br>Character: Cassie Lang <br>No. Of Appearances: 2 <br>Franchise/Career : 98.6 %\", \"Name: John Kani <br>Character: T\\u2019Chaka <br>No. Of Appearances: 2 <br>Franchise/Career : 100.0 %\", \"Name: Pom Klementieff <br>Character: Mantis <br>No. Of Appearances: 2 <br>Franchise/Career : 99.8 %\", \"Name: Jacob Batalon <br>Character: Ned Leeds <br>No. Of Appearances: 2 <br>Franchise/Career : 96.3 %\", \"Name: Winston Duke <br>Character: M\\u2019Baku/Man-Ape <br>No. Of Appearances: 2 <br>Franchise/Career : 100.0 %\", \"Name: Isabella Amara <br>Character: Sally Avril <br>No. Of Appearances: 2 <br>Franchise/Career : 95.6 %\", \"Name: Gozie Agbo <br>Character: Theo Broussard <br>No. Of Appearances: 2 <br>Franchise/Career : 100.0 %\", \"Name: Kerry Condon <br>Character: F.R.I.D.A.Y. <br>No. Of Appearances: 2 <br>Franchise/Career : 93.30000000000001 %\", \"Name: Alexis Denisof <br>Character: The Other <br>No. Of Appearances: 2 <br>Franchise/Career : 99.8 %\", \"Name: Brian Schaeffer <br>Character: Strucker Mercenary <br>No. Of Appearances: 2 <br>Franchise/Career : 100.0 %\", \"Name: Tiffany Espensen <br>Character: Cindy <br>No. Of Appearances: 2 <br>Franchise/Career : 92.10000000000001 %\", \"Name: Stephen Blackehart <br>Character: Brahl <br>No. Of Appearances: 2 <br>Franchise/Career : 99.3 %\", \"Name: Stephen McFeely <br>Character: SHIELD Interrogator #2 <br>No. Of Appearances: 2 <br>Franchise/Career : 100.0 %\", \"Name: Rob Zombie <br>Character: Himself <br>No. Of Appearances: 2 <br>Franchise/Career : 98.9 %\"], \"x\": [4308265534, 4805204167, 2790277669, 3427258645, 2016937426, 1143153656, 2330069674, 1644006160, 1152496482, 2487152283, 2877259152, 2999157594, 3355496383, 3022329761, 1854482913, 3375822712, 2293132263, 2024170352, 3137523386, 1643988614, 2722827013, 1651136986], \"y\": [4028577034, 4495577407, 2681664404, 3355496383, 1854482913, 1093929134, 2232337786, 1633184775, 1136120416, 2487152283, 2870742383, 2888496010, 3355496383, 2888496010, 1854482913, 3148506148, 2288803413, 2024170352, 2888496010, 1633184775, 2722827013, 1633184775], \"type\": \"scatter\", \"uid\": \"40a8ac2a-a710-4bd8-b171-9c853a75e4c5\"}, {\"marker\": {\"color\": \"#FF8F00\", \"line\": {\"width\": 2}, \"size\": [40, 25, 25, 25, 25, 15, 10, 10], \"sizemode\": \"area\", \"sizeref\": 0.02}, \"mode\": \"markers\", \"name\": \"Franchise/Career Above 80%\", \"text\": [\"Name: Chris Evans <br>Character: Steve Rogers / Captain America <br>No. Of Appearances: 8 <br>Franchise/Career : 85.39999999999999 %\", \"Name: Sebastian Stan <br>Character: Bucky Barnes/Winter Soldier <br>No. Of Appearances: 5 <br>Franchise/Career : 82.8 %\", \"Name: Tom Hiddleston <br>Character: Loki <br>No. Of Appearances: 5 <br>Franchise/Career : 83.3 %\", \"Name: Clark Gregg <br>Character: Agent Coulson <br>No. Of Appearances: 5 <br>Franchise/Career : 81.0 %\", \"Name: Cobie Smulders <br>Character: Maria Hill <br>No. Of Appearances: 5 <br>Franchise/Career : 87.2 %\", \"Name: Elizabeth Olsen <br>Character: Wanda Maximoff/Scarlet Witch <br>No. Of Appearances: 3 <br>Franchise/Career : 88.0 %\", \"Name: Letitia Wright <br>Character: Shuri <br>No. Of Appearances: 2 <br>Franchise/Career : 83.1 %\", \"Name: Florence Kasumba <br>Character: Ayo <br>No. Of Appearances: 2 <br>Franchise/Career : 80.30000000000001 %\"], \"x\": [9411837504, 5113057798, 6560862669, 3919638599, 6473584057, 5175016525, 4036236717, 4176629761], \"y\": [8034498559, 4233477813, 5467270179, 3173590451, 5643776873, 4551520111, 3355496383, 3355496383], \"type\": \"scatter\", \"uid\": \"37c6d9e5-303c-48a8-801d-4a8a731311e1\"}, {\"marker\": {\"color\": \"#FBC02D\", \"line\": {\"width\": 2}, \"size\": [50, 35, 30, 30, 20, 20, 20, 15, 15, 15, 10, 10, 10], \"sizemode\": \"area\", \"sizeref\": 0.02}, \"mode\": \"markers\", \"name\": \"Franchise/Career Above 70%\", \"text\": [\"Name: Robert Downey Jr. <br>Character: Tony Stark/Iron Man <br>No. Of Appearances: 10 <br>Franchise/Career : 78.60000000000001 %\", \"Name: Gwyneth Paltrow <br>Character: Pepper Potts <br>No. Of Appearances: 7 <br>Franchise/Career : 75.6 %\", \"Name: Chris Hemsworth <br>Character: Thor <br>No. Of Appearances: 6 <br>Franchise/Career : 79.9 %\", \"Name: Paul Bettany <br>Character: Vision <br>No. Of Appearances: 6 <br>Franchise/Career : 74.9 %\", \"Name: Mark Ruffalo <br>Character: Bruce Banner / The Hulk <br>No. Of Appearances: 4 <br>Franchise/Career : 71.2 %\", \"Name: Anthony Mackie <br>Character: Sam Wilson/Falcon <br>No. Of Appearances: 4 <br>Franchise/Career : 72.3 %\", \"Name: Hayley Atwell <br>Character: Peggy Carter <br>No. Of Appearances: 4 <br>Franchise/Career : 78.60000000000001 %\", \"Name: Dave Bautista <br>Character: Drax the Destroyer <br>No. Of Appearances: 3 <br>Franchise/Career : 73.8 %\", \"Name: Tadanobu Asano <br>Character: Hogun <br>No. Of Appearances: 3 <br>Franchise/Career : 79.3 %\", \"Name: Karen Gillan <br>Character: Nebula <br>No. Of Appearances: 3 <br>Franchise/Career : 75.5 %\", \"Name: Tony Revolori <br>Character: Flash Thompson <br>No. Of Appearances: 2 <br>Franchise/Career : 74.3 %\", \"Name: Laura Haddock <br>Character: Meredith Quill <br>No. Of Appearances: 2 <br>Franchise/Career : 70.3 %\", \"Name: Jamie McShane <br>Character: Agent Jackson <br>No. Of Appearances: 2 <br>Franchise/Career : 75.3 %\"], \"x\": [12260462709, 9030242330, 8601823064, 10554732068, 8116840958, 7282287347, 3824157433, 4934853046, 2448192095, 4821352198, 1184797219, 2322822391, 2613304879], \"y\": [9636820961, 6828152115, 6870284142, 7906004669, 5776355008, 5265922000, 3006845714, 3641609899, 1940909158, 3641609899, 880070886, 1633184775, 1967262515], \"type\": \"scatter\", \"uid\": \"1359acf5-2b33-449e-b156-7878484d20b9\"}, {\"marker\": {\"color\": \"#C0CA33\", \"line\": {\"width\": 2}, \"size\": [100, 30, 25, 25, 15, 15, 10, 10, 10, 10, 10], \"sizemode\": \"area\", \"sizeref\": 0.02}, \"mode\": \"markers\", \"name\": \"Franchise/Career Above 60%\", \"text\": [\"Name: Stan Lee <br>Character: Himself <br>No. Of Appearances: 20 <br>Franchise/Career : 66.5 %\", \"Name: Scarlett Johansson <br>Character: Natasha Romanoff/Black Widow <br>No. Of Appearances: 6 <br>Franchise/Career : 63.3 %\", \"Name: Don Cheadle <br>Character: Lt. Col. James \\\"Rhodey\\\" Rhodes <br>No. Of Appearances: 5 <br>Franchise/Career : 67.7 %\", \"Name: Jeremy Renner <br>Character: Clint Barton/Hawkeye <br>No. Of Appearances: 5 <br>Franchise/Career : 66.60000000000001 %\", \"Name: John Slattery <br>Character: Howard Stark <br>No. Of Appearances: 3 <br>Franchise/Career : 64.60000000000001 %\", \"Name: William Hurt <br>Character: Gen. Thaddeus 'Thunderbolt' Ross <br>No. Of Appearances: 3 <br>Franchise/Career : 60.699999999999996 %\", \"Name: Kat Dennings <br>Character: Darcy Lewis <br>No. Of Appearances: 2 <br>Franchise/Career : 69.89999999999999 %\", \"Name: T.I. Tip Harris <br>Character: Dave <br>No. Of Appearances: 2 <br>Franchise/Career : 68.5 %\", \"Name: Benedict Wong <br>Character: Master Wong <br>No. Of Appearances: 2 <br>Franchise/Career : 60.3 %\", \"Name: Zack Duhame <br>Character: Engine Pirate <br>No. Of Appearances: 2 <br>Franchise/Career : 69.1 %\", \"Name: Pat Kiernan <br>Character: Himself <br>No. Of Appearances: 2 <br>Franchise/Career : 60.6 %\"], \"x\": [26241821085, 11690053101, 9432121645, 9108137248, 3528843138, 5626120616, 1564662678, 1658408690, 4453545768, 1785270342, 3619553208], \"y\": [17455564691, 7405014286, 6388068772, 6069456008, 2280097499, 3414080007, 1093929134, 1136120416, 2684911581, 1233261975, 2194422354], \"type\": \"scatter\", \"uid\": \"b9c46f24-fae7-4644-833d-0b74d568fe96\"}, {\"marker\": {\"color\": \"#8BC34A\", \"line\": {\"width\": 2}, \"size\": [20, 15, 10, 10, 10, 10, 10], \"sizemode\": \"area\", \"sizeref\": 0.02}, \"mode\": \"markers\", \"name\": \"Franchise/Career Above 50%\", \"text\": [\"Name: Paul Rudd <br>Character: Scott Lang / Ant-Man <br>No. Of Appearances: 4 <br>Franchise/Career : 59.199999999999996 %\", \"Name: Ray Stevenson <br>Character: Volstagg <br>No. Of Appearances: 3 <br>Franchise/Career : 50.3 %\", \"Name: Michael Rooker <br>Character: Yondu Udonta <br>No. Of Appearances: 2 <br>Franchise/Career : 54.2 %\", \"Name: Leslie Bibb <br>Character: Christine Everhart <br>No. Of Appearances: 2 <br>Franchise/Career : 58.5 %\", \"Name: Frank Grillo <br>Character: Brock Rumlow <br>No. Of Appearances: 2 <br>Franchise/Career : 54.2 %\", \"Name: Zachary Levi <br>Character: Fandral <br>No. Of Appearances: 2 <br>Franchise/Career : 54.7 %\", \"Name: Benicio del Toro <br>Character: The Collector <br>No. Of Appearances: 2 <br>Franchise/Career : 50.3 %\"], \"x\": [7243255381, 3858795341, 3012567769, 2063129250, 3423744147, 2728370562, 5523202685], \"y\": [4284626564, 1940909158, 1633184775, 1206327936, 1854482913, 1491582540, 2779292640], \"type\": \"scatter\", \"uid\": \"65440b51-6407-46ff-a89c-9e2d59c4f848\"}, {\"marker\": {\"color\": \"#66BB6A\", \"line\": {\"width\": 2}, \"size\": [25, 25, 20, 15, 15, 15, 10, 10, 10, 10, 10], \"sizemode\": \"area\", \"sizeref\": 0.02}, \"mode\": \"markers\", \"name\": \"Franchise/Career Above 40%\", \"text\": [\"Name: Jon Favreau <br>Character: Happy Hogan <br>No. Of Appearances: 5 <br>Franchise/Career : 40.6 %\", \"Name: Idris Elba <br>Character: Heimdall <br>No. Of Appearances: 5 <br>Franchise/Career : 48.4 %\", \"Name: Stellan Skarsg\\u00e5rd <br>Character: Erik Selvig <br>No. Of Appearances: 4 <br>Franchise/Career : 42.5 %\", \"Name: Benedict Cumberbatch <br>Character: Stephen Strange <br>No. Of Appearances: 3 <br>Franchise/Career : 41.099999999999994 %\", \"Name: Chris Pratt <br>Character: Peter Quill/Star-Lord <br>No. Of Appearances: 3 <br>Franchise/Career : 43.4 %\", \"Name: Bradley Cooper <br>Character: Rocket <br>No. Of Appearances: 3 <br>Franchise/Career : 44.1 %\", \"Name: David Dastmalchian <br>Character: Kurt <br>No. Of Appearances: 2 <br>Franchise/Career : 45.1 %\", \"Name: Martin Freeman <br>Character: Everett K. Ross <br>No. Of Appearances: 2 <br>Franchise/Career : 40.5 %\", \"Name: Marisa Tomei <br>Character: Aunt May <br>No. Of Appearances: 2 <br>Franchise/Career : 47.199999999999996 %\", \"Name: Kenneth Choi <br>Character: Jim Morita <br>No. Of Appearances: 2 <br>Franchise/Career : 49.6 %\", \"Name: Garry Shandling <br>Character: Senator Stern <br>No. Of Appearances: 2 <br>Franchise/Career : 43.9 %\"], \"x\": [8132508295, 11063888623, 9452805170, 8590632492, 8390819291, 8253934851, 2521719222, 6137010584, 4282906606, 2522731709, 3045456746], \"y\": [3301791094, 5352348245, 4014878994, 3531891605, 3641609899, 3641609899, 1136120416, 2487152283, 2020151910, 1250640662, 1335558278], \"type\": \"scatter\", \"uid\": \"4db22047-f128-442b-a016-520a43239fc9\"}, {\"marker\": {\"color\": \"#4DB6AC\", \"line\": {\"width\": 2}, \"size\": [50, 15, 15, 15, 15, 10, 10, 10], \"sizemode\": \"area\", \"sizeref\": 0.02}, \"mode\": \"markers\", \"name\": \"Franchise/Career Above 30%\", \"text\": [\"Name: Samuel L. Jackson <br>Character: Nick Fury <br>No. Of Appearances: 10 <br>Franchise/Career : 36.4 %\", \"Name: Evangeline Lilly <br>Character: Hope van Dyne/The Wasp <br>No. Of Appearances: 3 <br>Franchise/Career : 32.7 %\", \"Name: Anthony Hopkins <br>Character: Odin <br>No. Of Appearances: 3 <br>Franchise/Career : 30.8 %\", \"Name: Zoe Saldana <br>Character: Gamora <br>No. Of Appearances: 3 <br>Franchise/Career : 39.1 %\", \"Name: Vin Diesel <br>Character: Groot <br>No. Of Appearances: 3 <br>Franchise/Career : 34.2 %\", \"Name: Josh Brolin <br>Character: Thanos <br>No. Of Appearances: 2 <br>Franchise/Career : 36.7 %\", \"Name: Glenn Close <br>Character: Nova Prime <br>No. Of Appearances: 2 <br>Franchise/Career : 38.0 %\", \"Name: Rene Russo <br>Character: Frigga <br>No. Of Appearances: 2 <br>Franchise/Career : 33.0 %\"], \"x\": [21082254980, 3470709312, 6305846416, 9309487925, 10635265845, 5471453900, 4300409065, 3314077144], \"y\": [7670001203, 1136120416, 1940909158, 3641609899, 3641609899, 2008425124, 1633184775, 1093929134], \"type\": \"scatter\", \"uid\": \"a566318a-302e-4afb-84c8-37cbccb5cf3b\"}, {\"marker\": {\"color\": \"#80DEEA\", \"line\": {\"width\": 2}, \"size\": [10, 10, 10, 10, 10, 10], \"sizemode\": \"area\", \"sizeref\": 0.02}, \"mode\": \"markers\", \"name\": \"Franchise/Career Above 20%\", \"text\": [\"Name: Natalie Portman <br>Character: Jane Foster <br>No. Of Appearances: 2 <br>Franchise/Career : 20.1 %\", \"Name: Michael Pe\\u00f1a <br>Character: Luis <br>No. Of Appearances: 2 <br>Franchise/Career : 23.200000000000003 %\", \"Name: Bobby Cannavale <br>Character: Paxton <br>No. Of Appearances: 2 <br>Franchise/Career : 27.800000000000004 %\", \"Name: Michael Douglas <br>Character: Dr. Hank Pym <br>No. Of Appearances: 2 <br>Franchise/Career : 29.7 %\", \"Name: Andy Serkis <br>Character: Ulysses Klaue <br>No. Of Appearances: 2 <br>Franchise/Career : 20.599999999999998 %\", \"Name: Jeff Goldblum <br>Character: Grandmaster <br>No. Of Appearances: 2 <br>Franchise/Career : 23.5 %\"], \"x\": [5434555484, 4893315781, 4088243981, 3824559353, 13342259216, 7288467008], \"y\": [1093929134, 1136120416, 1136120416, 1136120416, 2750085222, 1709297283], \"type\": \"scatter\", \"uid\": \"f816be86-82bc-4123-a06a-773d833b6e86\"}, {\"marker\": {\"color\": \"#B3E5FC\", \"line\": {\"width\": 2}, \"size\": [10, 10, 10, 10], \"sizemode\": \"area\", \"sizeref\": 0.02}, \"mode\": \"markers\", \"name\": \"Franchise/Career Above 10%\", \"text\": [\"Name: Judy Greer <br>Character: Maggie <br>No. Of Appearances: 2 <br>Franchise/Career : 18.0 %\", \"Name: Lee Pace <br>Character: Ronan <br>No. Of Appearances: 2 <br>Franchise/Career : 15.4 %\", \"Name: Toby Jones <br>Character: Armin Zola <br>No. Of Appearances: 2 <br>Franchise/Career : 13.700000000000001 %\", \"Name: Djimon Hounsou <br>Character: Korath <br>No. Of Appearances: 2 <br>Franchise/Career : 14.000000000000002 %\"], \"x\": [6307736324, 5011787661, 7914805186, 5490995576], \"y\": [1136120416, 770867516, 1084971665, 770867516], \"type\": \"scatter\", \"uid\": \"c0425efb-4d6d-4e98-9a7e-d6948ebb2633\"}, {\"marker\": {\"color\": \"#E3F2FD\", \"line\": {\"width\": 2}, \"size\": [10], \"sizemode\": \"area\", \"sizeref\": 0.02}, \"mode\": \"markers\", \"name\": \"Franchise/Career Less Than 10%\", \"text\": [\"Name: Brie Larson <br>Character: Carol Danvers/Captain Marvel <br>No. Of Appearances: 2 <br>Franchise/Career : 0.0 %\"], \"x\": [1226966183], \"y\": [0], \"type\": \"scatter\", \"uid\": \"a0a3d038-d292-4466-be6a-829a6dd5a717\"}], {\"legend\": {\"bordercolor\": \"rgb(0, 0, 0)\", \"tracegroupgap\": 10}, \"paper_bgcolor\": \"#FDFEFE\", \"plot_bgcolor\": \"rgb(243, 243, 243)\", \"title\": \"Celebrity Appearances with Franchise Collection over Career Collection\", \"xaxis\": {\"gridcolor\": \"#FDFEFE\", \"gridwidth\": 1, \"ticklen\": 5, \"title\": \"Career Worldwide Box Office\", \"type\": \"log\", \"zerolinewidth\": 1}, \"yaxis\": {\"gridcolor\": \"#FDFEFE\", \"gridwidth\": 1, \"ticklen\": 5, \"title\": \"Franchise Worldwide Box Office\", \"zerolinewidth\": 1}}, {\"showLink\": true, \"linkText\": \"Export to plot.ly\"})});</script><script type=\"text/javascript\">window.addEventListener(\"resize\", function(){window._Plotly.Plots.resize(document.getElementById(\"7db37cdb-570e-4cd8-a6d5-edad81b689fd\"));});</script>"
      ],
      "text/vnd.plotly.v1+html": [
       "<div id=\"7db37cdb-570e-4cd8-a6d5-edad81b689fd\" style=\"height: 525px; width: 100%;\" class=\"plotly-graph-div\"></div><script type=\"text/javascript\">require([\"plotly\"], function(Plotly) { window.PLOTLYENV=window.PLOTLYENV || {};window.PLOTLYENV.BASE_URL=\"https://plot.ly\";Plotly.newPlot(\"7db37cdb-570e-4cd8-a6d5-edad81b689fd\", [{\"marker\": {\"color\": \"#E65100\", \"line\": {\"width\": 2}, \"size\": [20, 15, 15, 10, 10, 10, 10, 10, 10, 10, 10, 10, 10, 10, 10, 10, 10, 10, 10, 10, 10, 10], \"sizemode\": \"area\", \"sizeref\": 0.02}, \"mode\": \"markers\", \"name\": \"Franchise/Career Above 90%\", \"text\": [\"Name: Tom Holland <br>Character: Peter Parker/Spider-Man <br>No. Of Appearances: 4 <br>Franchise/Career : 93.5 %\", \"Name: Chadwick Boseman <br>Character: T\\u2019Challa/Black Panther <br>No. Of Appearances: 3 <br>Franchise/Career : 93.60000000000001 %\", \"Name: Maximiliano Hern\\u00e1ndez <br>Character: Agent Jasper Sitwell <br>No. Of Appearances: 3 <br>Franchise/Career : 96.1 %\", \"Name: Danai Gurira <br>Character: Okoye <br>No. Of Appearances: 2 <br>Franchise/Career : 97.89999999999999 %\", \"Name: Emily VanCamp <br>Character: Agent 13 <br>No. Of Appearances: 2 <br>Franchise/Career : 91.9 %\", \"Name: Jaimie Alexander <br>Character: Sif <br>No. Of Appearances: 2 <br>Franchise/Career : 95.7 %\", \"Name: Jenny Agutter <br>Character: World Security Council <br>No. Of Appearances: 2 <br>Franchise/Career : 95.8 %\", \"Name: Sean Gunn <br>Character: Kraglin <br>No. Of Appearances: 2 <br>Franchise/Career : 99.3 %\", \"Name: Abby Ryder Fortson <br>Character: Cassie Lang <br>No. Of Appearances: 2 <br>Franchise/Career : 98.6 %\", \"Name: John Kani <br>Character: T\\u2019Chaka <br>No. Of Appearances: 2 <br>Franchise/Career : 100.0 %\", \"Name: Pom Klementieff <br>Character: Mantis <br>No. Of Appearances: 2 <br>Franchise/Career : 99.8 %\", \"Name: Jacob Batalon <br>Character: Ned Leeds <br>No. Of Appearances: 2 <br>Franchise/Career : 96.3 %\", \"Name: Winston Duke <br>Character: M\\u2019Baku/Man-Ape <br>No. Of Appearances: 2 <br>Franchise/Career : 100.0 %\", \"Name: Isabella Amara <br>Character: Sally Avril <br>No. Of Appearances: 2 <br>Franchise/Career : 95.6 %\", \"Name: Gozie Agbo <br>Character: Theo Broussard <br>No. Of Appearances: 2 <br>Franchise/Career : 100.0 %\", \"Name: Kerry Condon <br>Character: F.R.I.D.A.Y. <br>No. Of Appearances: 2 <br>Franchise/Career : 93.30000000000001 %\", \"Name: Alexis Denisof <br>Character: The Other <br>No. Of Appearances: 2 <br>Franchise/Career : 99.8 %\", \"Name: Brian Schaeffer <br>Character: Strucker Mercenary <br>No. Of Appearances: 2 <br>Franchise/Career : 100.0 %\", \"Name: Tiffany Espensen <br>Character: Cindy <br>No. Of Appearances: 2 <br>Franchise/Career : 92.10000000000001 %\", \"Name: Stephen Blackehart <br>Character: Brahl <br>No. Of Appearances: 2 <br>Franchise/Career : 99.3 %\", \"Name: Stephen McFeely <br>Character: SHIELD Interrogator #2 <br>No. Of Appearances: 2 <br>Franchise/Career : 100.0 %\", \"Name: Rob Zombie <br>Character: Himself <br>No. Of Appearances: 2 <br>Franchise/Career : 98.9 %\"], \"x\": [4308265534, 4805204167, 2790277669, 3427258645, 2016937426, 1143153656, 2330069674, 1644006160, 1152496482, 2487152283, 2877259152, 2999157594, 3355496383, 3022329761, 1854482913, 3375822712, 2293132263, 2024170352, 3137523386, 1643988614, 2722827013, 1651136986], \"y\": [4028577034, 4495577407, 2681664404, 3355496383, 1854482913, 1093929134, 2232337786, 1633184775, 1136120416, 2487152283, 2870742383, 2888496010, 3355496383, 2888496010, 1854482913, 3148506148, 2288803413, 2024170352, 2888496010, 1633184775, 2722827013, 1633184775], \"type\": \"scatter\", \"uid\": \"40a8ac2a-a710-4bd8-b171-9c853a75e4c5\"}, {\"marker\": {\"color\": \"#FF8F00\", \"line\": {\"width\": 2}, \"size\": [40, 25, 25, 25, 25, 15, 10, 10], \"sizemode\": \"area\", \"sizeref\": 0.02}, \"mode\": \"markers\", \"name\": \"Franchise/Career Above 80%\", \"text\": [\"Name: Chris Evans <br>Character: Steve Rogers / Captain America <br>No. Of Appearances: 8 <br>Franchise/Career : 85.39999999999999 %\", \"Name: Sebastian Stan <br>Character: Bucky Barnes/Winter Soldier <br>No. Of Appearances: 5 <br>Franchise/Career : 82.8 %\", \"Name: Tom Hiddleston <br>Character: Loki <br>No. Of Appearances: 5 <br>Franchise/Career : 83.3 %\", \"Name: Clark Gregg <br>Character: Agent Coulson <br>No. Of Appearances: 5 <br>Franchise/Career : 81.0 %\", \"Name: Cobie Smulders <br>Character: Maria Hill <br>No. Of Appearances: 5 <br>Franchise/Career : 87.2 %\", \"Name: Elizabeth Olsen <br>Character: Wanda Maximoff/Scarlet Witch <br>No. Of Appearances: 3 <br>Franchise/Career : 88.0 %\", \"Name: Letitia Wright <br>Character: Shuri <br>No. Of Appearances: 2 <br>Franchise/Career : 83.1 %\", \"Name: Florence Kasumba <br>Character: Ayo <br>No. Of Appearances: 2 <br>Franchise/Career : 80.30000000000001 %\"], \"x\": [9411837504, 5113057798, 6560862669, 3919638599, 6473584057, 5175016525, 4036236717, 4176629761], \"y\": [8034498559, 4233477813, 5467270179, 3173590451, 5643776873, 4551520111, 3355496383, 3355496383], \"type\": \"scatter\", \"uid\": \"37c6d9e5-303c-48a8-801d-4a8a731311e1\"}, {\"marker\": {\"color\": \"#FBC02D\", \"line\": {\"width\": 2}, \"size\": [50, 35, 30, 30, 20, 20, 20, 15, 15, 15, 10, 10, 10], \"sizemode\": \"area\", \"sizeref\": 0.02}, \"mode\": \"markers\", \"name\": \"Franchise/Career Above 70%\", \"text\": [\"Name: Robert Downey Jr. <br>Character: Tony Stark/Iron Man <br>No. Of Appearances: 10 <br>Franchise/Career : 78.60000000000001 %\", \"Name: Gwyneth Paltrow <br>Character: Pepper Potts <br>No. Of Appearances: 7 <br>Franchise/Career : 75.6 %\", \"Name: Chris Hemsworth <br>Character: Thor <br>No. Of Appearances: 6 <br>Franchise/Career : 79.9 %\", \"Name: Paul Bettany <br>Character: Vision <br>No. Of Appearances: 6 <br>Franchise/Career : 74.9 %\", \"Name: Mark Ruffalo <br>Character: Bruce Banner / The Hulk <br>No. Of Appearances: 4 <br>Franchise/Career : 71.2 %\", \"Name: Anthony Mackie <br>Character: Sam Wilson/Falcon <br>No. Of Appearances: 4 <br>Franchise/Career : 72.3 %\", \"Name: Hayley Atwell <br>Character: Peggy Carter <br>No. Of Appearances: 4 <br>Franchise/Career : 78.60000000000001 %\", \"Name: Dave Bautista <br>Character: Drax the Destroyer <br>No. Of Appearances: 3 <br>Franchise/Career : 73.8 %\", \"Name: Tadanobu Asano <br>Character: Hogun <br>No. Of Appearances: 3 <br>Franchise/Career : 79.3 %\", \"Name: Karen Gillan <br>Character: Nebula <br>No. Of Appearances: 3 <br>Franchise/Career : 75.5 %\", \"Name: Tony Revolori <br>Character: Flash Thompson <br>No. Of Appearances: 2 <br>Franchise/Career : 74.3 %\", \"Name: Laura Haddock <br>Character: Meredith Quill <br>No. Of Appearances: 2 <br>Franchise/Career : 70.3 %\", \"Name: Jamie McShane <br>Character: Agent Jackson <br>No. Of Appearances: 2 <br>Franchise/Career : 75.3 %\"], \"x\": [12260462709, 9030242330, 8601823064, 10554732068, 8116840958, 7282287347, 3824157433, 4934853046, 2448192095, 4821352198, 1184797219, 2322822391, 2613304879], \"y\": [9636820961, 6828152115, 6870284142, 7906004669, 5776355008, 5265922000, 3006845714, 3641609899, 1940909158, 3641609899, 880070886, 1633184775, 1967262515], \"type\": \"scatter\", \"uid\": \"1359acf5-2b33-449e-b156-7878484d20b9\"}, {\"marker\": {\"color\": \"#C0CA33\", \"line\": {\"width\": 2}, \"size\": [100, 30, 25, 25, 15, 15, 10, 10, 10, 10, 10], \"sizemode\": \"area\", \"sizeref\": 0.02}, \"mode\": \"markers\", \"name\": \"Franchise/Career Above 60%\", \"text\": [\"Name: Stan Lee <br>Character: Himself <br>No. Of Appearances: 20 <br>Franchise/Career : 66.5 %\", \"Name: Scarlett Johansson <br>Character: Natasha Romanoff/Black Widow <br>No. Of Appearances: 6 <br>Franchise/Career : 63.3 %\", \"Name: Don Cheadle <br>Character: Lt. Col. James \\\"Rhodey\\\" Rhodes <br>No. Of Appearances: 5 <br>Franchise/Career : 67.7 %\", \"Name: Jeremy Renner <br>Character: Clint Barton/Hawkeye <br>No. Of Appearances: 5 <br>Franchise/Career : 66.60000000000001 %\", \"Name: John Slattery <br>Character: Howard Stark <br>No. Of Appearances: 3 <br>Franchise/Career : 64.60000000000001 %\", \"Name: William Hurt <br>Character: Gen. Thaddeus 'Thunderbolt' Ross <br>No. Of Appearances: 3 <br>Franchise/Career : 60.699999999999996 %\", \"Name: Kat Dennings <br>Character: Darcy Lewis <br>No. Of Appearances: 2 <br>Franchise/Career : 69.89999999999999 %\", \"Name: T.I. Tip Harris <br>Character: Dave <br>No. Of Appearances: 2 <br>Franchise/Career : 68.5 %\", \"Name: Benedict Wong <br>Character: Master Wong <br>No. Of Appearances: 2 <br>Franchise/Career : 60.3 %\", \"Name: Zack Duhame <br>Character: Engine Pirate <br>No. Of Appearances: 2 <br>Franchise/Career : 69.1 %\", \"Name: Pat Kiernan <br>Character: Himself <br>No. Of Appearances: 2 <br>Franchise/Career : 60.6 %\"], \"x\": [26241821085, 11690053101, 9432121645, 9108137248, 3528843138, 5626120616, 1564662678, 1658408690, 4453545768, 1785270342, 3619553208], \"y\": [17455564691, 7405014286, 6388068772, 6069456008, 2280097499, 3414080007, 1093929134, 1136120416, 2684911581, 1233261975, 2194422354], \"type\": \"scatter\", \"uid\": \"b9c46f24-fae7-4644-833d-0b74d568fe96\"}, {\"marker\": {\"color\": \"#8BC34A\", \"line\": {\"width\": 2}, \"size\": [20, 15, 10, 10, 10, 10, 10], \"sizemode\": \"area\", \"sizeref\": 0.02}, \"mode\": \"markers\", \"name\": \"Franchise/Career Above 50%\", \"text\": [\"Name: Paul Rudd <br>Character: Scott Lang / Ant-Man <br>No. Of Appearances: 4 <br>Franchise/Career : 59.199999999999996 %\", \"Name: Ray Stevenson <br>Character: Volstagg <br>No. Of Appearances: 3 <br>Franchise/Career : 50.3 %\", \"Name: Michael Rooker <br>Character: Yondu Udonta <br>No. Of Appearances: 2 <br>Franchise/Career : 54.2 %\", \"Name: Leslie Bibb <br>Character: Christine Everhart <br>No. Of Appearances: 2 <br>Franchise/Career : 58.5 %\", \"Name: Frank Grillo <br>Character: Brock Rumlow <br>No. Of Appearances: 2 <br>Franchise/Career : 54.2 %\", \"Name: Zachary Levi <br>Character: Fandral <br>No. Of Appearances: 2 <br>Franchise/Career : 54.7 %\", \"Name: Benicio del Toro <br>Character: The Collector <br>No. Of Appearances: 2 <br>Franchise/Career : 50.3 %\"], \"x\": [7243255381, 3858795341, 3012567769, 2063129250, 3423744147, 2728370562, 5523202685], \"y\": [4284626564, 1940909158, 1633184775, 1206327936, 1854482913, 1491582540, 2779292640], \"type\": \"scatter\", \"uid\": \"65440b51-6407-46ff-a89c-9e2d59c4f848\"}, {\"marker\": {\"color\": \"#66BB6A\", \"line\": {\"width\": 2}, \"size\": [25, 25, 20, 15, 15, 15, 10, 10, 10, 10, 10], \"sizemode\": \"area\", \"sizeref\": 0.02}, \"mode\": \"markers\", \"name\": \"Franchise/Career Above 40%\", \"text\": [\"Name: Jon Favreau <br>Character: Happy Hogan <br>No. Of Appearances: 5 <br>Franchise/Career : 40.6 %\", \"Name: Idris Elba <br>Character: Heimdall <br>No. Of Appearances: 5 <br>Franchise/Career : 48.4 %\", \"Name: Stellan Skarsg\\u00e5rd <br>Character: Erik Selvig <br>No. Of Appearances: 4 <br>Franchise/Career : 42.5 %\", \"Name: Benedict Cumberbatch <br>Character: Stephen Strange <br>No. Of Appearances: 3 <br>Franchise/Career : 41.099999999999994 %\", \"Name: Chris Pratt <br>Character: Peter Quill/Star-Lord <br>No. Of Appearances: 3 <br>Franchise/Career : 43.4 %\", \"Name: Bradley Cooper <br>Character: Rocket <br>No. Of Appearances: 3 <br>Franchise/Career : 44.1 %\", \"Name: David Dastmalchian <br>Character: Kurt <br>No. Of Appearances: 2 <br>Franchise/Career : 45.1 %\", \"Name: Martin Freeman <br>Character: Everett K. Ross <br>No. Of Appearances: 2 <br>Franchise/Career : 40.5 %\", \"Name: Marisa Tomei <br>Character: Aunt May <br>No. Of Appearances: 2 <br>Franchise/Career : 47.199999999999996 %\", \"Name: Kenneth Choi <br>Character: Jim Morita <br>No. Of Appearances: 2 <br>Franchise/Career : 49.6 %\", \"Name: Garry Shandling <br>Character: Senator Stern <br>No. Of Appearances: 2 <br>Franchise/Career : 43.9 %\"], \"x\": [8132508295, 11063888623, 9452805170, 8590632492, 8390819291, 8253934851, 2521719222, 6137010584, 4282906606, 2522731709, 3045456746], \"y\": [3301791094, 5352348245, 4014878994, 3531891605, 3641609899, 3641609899, 1136120416, 2487152283, 2020151910, 1250640662, 1335558278], \"type\": \"scatter\", \"uid\": \"4db22047-f128-442b-a016-520a43239fc9\"}, {\"marker\": {\"color\": \"#4DB6AC\", \"line\": {\"width\": 2}, \"size\": [50, 15, 15, 15, 15, 10, 10, 10], \"sizemode\": \"area\", \"sizeref\": 0.02}, \"mode\": \"markers\", \"name\": \"Franchise/Career Above 30%\", \"text\": [\"Name: Samuel L. Jackson <br>Character: Nick Fury <br>No. Of Appearances: 10 <br>Franchise/Career : 36.4 %\", \"Name: Evangeline Lilly <br>Character: Hope van Dyne/The Wasp <br>No. Of Appearances: 3 <br>Franchise/Career : 32.7 %\", \"Name: Anthony Hopkins <br>Character: Odin <br>No. Of Appearances: 3 <br>Franchise/Career : 30.8 %\", \"Name: Zoe Saldana <br>Character: Gamora <br>No. Of Appearances: 3 <br>Franchise/Career : 39.1 %\", \"Name: Vin Diesel <br>Character: Groot <br>No. Of Appearances: 3 <br>Franchise/Career : 34.2 %\", \"Name: Josh Brolin <br>Character: Thanos <br>No. Of Appearances: 2 <br>Franchise/Career : 36.7 %\", \"Name: Glenn Close <br>Character: Nova Prime <br>No. Of Appearances: 2 <br>Franchise/Career : 38.0 %\", \"Name: Rene Russo <br>Character: Frigga <br>No. Of Appearances: 2 <br>Franchise/Career : 33.0 %\"], \"x\": [21082254980, 3470709312, 6305846416, 9309487925, 10635265845, 5471453900, 4300409065, 3314077144], \"y\": [7670001203, 1136120416, 1940909158, 3641609899, 3641609899, 2008425124, 1633184775, 1093929134], \"type\": \"scatter\", \"uid\": \"a566318a-302e-4afb-84c8-37cbccb5cf3b\"}, {\"marker\": {\"color\": \"#80DEEA\", \"line\": {\"width\": 2}, \"size\": [10, 10, 10, 10, 10, 10], \"sizemode\": \"area\", \"sizeref\": 0.02}, \"mode\": \"markers\", \"name\": \"Franchise/Career Above 20%\", \"text\": [\"Name: Natalie Portman <br>Character: Jane Foster <br>No. Of Appearances: 2 <br>Franchise/Career : 20.1 %\", \"Name: Michael Pe\\u00f1a <br>Character: Luis <br>No. Of Appearances: 2 <br>Franchise/Career : 23.200000000000003 %\", \"Name: Bobby Cannavale <br>Character: Paxton <br>No. Of Appearances: 2 <br>Franchise/Career : 27.800000000000004 %\", \"Name: Michael Douglas <br>Character: Dr. Hank Pym <br>No. Of Appearances: 2 <br>Franchise/Career : 29.7 %\", \"Name: Andy Serkis <br>Character: Ulysses Klaue <br>No. Of Appearances: 2 <br>Franchise/Career : 20.599999999999998 %\", \"Name: Jeff Goldblum <br>Character: Grandmaster <br>No. Of Appearances: 2 <br>Franchise/Career : 23.5 %\"], \"x\": [5434555484, 4893315781, 4088243981, 3824559353, 13342259216, 7288467008], \"y\": [1093929134, 1136120416, 1136120416, 1136120416, 2750085222, 1709297283], \"type\": \"scatter\", \"uid\": \"f816be86-82bc-4123-a06a-773d833b6e86\"}, {\"marker\": {\"color\": \"#B3E5FC\", \"line\": {\"width\": 2}, \"size\": [10, 10, 10, 10], \"sizemode\": \"area\", \"sizeref\": 0.02}, \"mode\": \"markers\", \"name\": \"Franchise/Career Above 10%\", \"text\": [\"Name: Judy Greer <br>Character: Maggie <br>No. Of Appearances: 2 <br>Franchise/Career : 18.0 %\", \"Name: Lee Pace <br>Character: Ronan <br>No. Of Appearances: 2 <br>Franchise/Career : 15.4 %\", \"Name: Toby Jones <br>Character: Armin Zola <br>No. Of Appearances: 2 <br>Franchise/Career : 13.700000000000001 %\", \"Name: Djimon Hounsou <br>Character: Korath <br>No. Of Appearances: 2 <br>Franchise/Career : 14.000000000000002 %\"], \"x\": [6307736324, 5011787661, 7914805186, 5490995576], \"y\": [1136120416, 770867516, 1084971665, 770867516], \"type\": \"scatter\", \"uid\": \"c0425efb-4d6d-4e98-9a7e-d6948ebb2633\"}, {\"marker\": {\"color\": \"#E3F2FD\", \"line\": {\"width\": 2}, \"size\": [10], \"sizemode\": \"area\", \"sizeref\": 0.02}, \"mode\": \"markers\", \"name\": \"Franchise/Career Less Than 10%\", \"text\": [\"Name: Brie Larson <br>Character: Carol Danvers/Captain Marvel <br>No. Of Appearances: 2 <br>Franchise/Career : 0.0 %\"], \"x\": [1226966183], \"y\": [0], \"type\": \"scatter\", \"uid\": \"a0a3d038-d292-4466-be6a-829a6dd5a717\"}], {\"legend\": {\"bordercolor\": \"rgb(0, 0, 0)\", \"tracegroupgap\": 10}, \"paper_bgcolor\": \"#FDFEFE\", \"plot_bgcolor\": \"rgb(243, 243, 243)\", \"title\": \"Celebrity Appearances with Franchise Collection over Career Collection\", \"xaxis\": {\"gridcolor\": \"#FDFEFE\", \"gridwidth\": 1, \"ticklen\": 5, \"title\": \"Career Worldwide Box Office\", \"type\": \"log\", \"zerolinewidth\": 1}, \"yaxis\": {\"gridcolor\": \"#FDFEFE\", \"gridwidth\": 1, \"ticklen\": 5, \"title\": \"Franchise Worldwide Box Office\", \"zerolinewidth\": 1}}, {\"showLink\": true, \"linkText\": \"Export to plot.ly\"})});</script><script type=\"text/javascript\">window.addEventListener(\"resize\", function(){window._Plotly.Plots.resize(document.getElementById(\"7db37cdb-570e-4cd8-a6d5-edad81b689fd\"));});</script>"
      ]
     },
     "metadata": {},
     "output_type": "display_data"
    }
   ],
   "source": [
    "df = pd.read_excel(io=\"C:/Users/Gautam/Desktop/marvel-dataset-final.xlsx\", sheet_name=\"marvel\")\n",
    "df2 = pd.read_excel(io=\"C:/Users/Gautam/Desktop/marvel-dataset-final.xlsx\", sheet_name=\"movieCast\")\n",
    "df3 = pd.read_excel(io=\"C:/Users/Gautam/Desktop/marvel-dataset-final.xlsx\", sheet_name=\"actor\")\n",
    "\n",
    "slope = 5\n",
    "hover_text = []\n",
    "bubble_size = []\n",
    "color= []\n",
    "\n",
    "\n",
    "\n",
    "for index, row in df3.iterrows():\n",
    "    hover_text.append(('Name: {person} <br>'+'Character: {character} <br>'+'No. Of Appearances: {appearances} <br>'+'Franchise/Career : {ratio} %')\n",
    "                      .format(person=row['Person'],\n",
    "                              character=row['Role'],\n",
    "                              appearances=row['Nr. Of Movies'],\n",
    "                              ratio=row['Franchise/Career']*100))\n",
    "    bubble_size.append((row['Nr. Of Movies']*slope))\n",
    "\n",
    "df3['text'] = hover_text\n",
    "df3['size'] = bubble_size\n",
    "custom_color = {\n",
    "    \"trace0\":\"#E65100\",\n",
    "    \"trace1\":\"#FF8F00\",\n",
    "    \"trace2\":\"#FBC02D\",\n",
    "    \"trace3\":\"#C0CA33\",\n",
    "    \"trace4\":\"#8BC34A\",\n",
    "    \"trace5\":\"#66BB6A\",\n",
    "    \"trace6\":\"#4DB6AC\",\n",
    "    \"trace7\":\"#80DEEA\",\n",
    "    \"trace8\":\"#B3E5FC\",\n",
    "    \"trace9\":\"#E3F2FD\"\n",
    "}\n",
    "\n",
    "sizeref = 2*max(df3['size'])/(100**2)\n",
    "\n",
    "trace0 = go.Scatter(\n",
    "    x=df3['Career Worldwide Box Office'][(df3['Franchise/Career']*100).between (90,100)],\n",
    "    y=df3['Franchise Worldwide Box Office'][(df3['Franchise/Career']*100).between (90,100)],\n",
    "    mode='markers',\n",
    "    name='Franchise/Career Above 90%',\n",
    "    text=df3['text'][(df3['Franchise/Career']*100).between (90,100)],\n",
    "    marker=dict(\n",
    "        sizemode='area',\n",
    "       sizeref=sizeref,\n",
    "        color = custom_color[\"trace0\"],\n",
    "        size=df3['size'][(df3['Franchise/Career']*100).between (90,100)],\n",
    "        line=dict(\n",
    "            width=2\n",
    "        ),\n",
    "    ),\n",
    "   \n",
    "\n",
    ")\n",
    "\n",
    "trace1 = go.Scatter(\n",
    "    x=df3['Career Worldwide Box Office'][(df3['Franchise/Career']*100).between (80,90)],\n",
    "    y=df3['Franchise Worldwide Box Office'][(df3['Franchise/Career']*100).between (80,90)],\n",
    "    mode='markers',\n",
    "    name='Franchise/Career Above 80%',\n",
    "    text=df3['text'][(df3['Franchise/Career']*100).between (80,90)],\n",
    "    marker=dict(\n",
    "        sizemode='area',\n",
    "       sizeref=sizeref,\n",
    "        color = custom_color[\"trace1\"],\n",
    "        size=df3['size'][(df3['Franchise/Career']*100).between (80,90)],\n",
    "        line=dict(\n",
    "            width=2\n",
    "        ),\n",
    "    ),\n",
    "\n",
    ")\n",
    "\n",
    "trace2 = go.Scatter(\n",
    "    x=df3['Career Worldwide Box Office'][(df3['Franchise/Career']*100).between (70,80)],\n",
    "    y=df3['Franchise Worldwide Box Office'][(df3['Franchise/Career']*100).between (70,80)],\n",
    "    mode='markers',\n",
    "    name='Franchise/Career Above 70%',\n",
    "    text=df3['text'][(df3['Franchise/Career']*100).between (70,80)],\n",
    "    marker=dict(\n",
    "        sizemode='area',\n",
    "        sizeref=sizeref,\n",
    "        color = custom_color[\"trace2\"],\n",
    "        size=df3['size'][(df3['Franchise/Career']*100).between (70,80)],\n",
    "        line=dict(\n",
    "            width=2\n",
    "        ),\n",
    "    ),\n",
    "\n",
    ")\n",
    "\n",
    "trace3 = go.Scatter(\n",
    "    x=df3['Career Worldwide Box Office'][(df3['Franchise/Career']*100).between (60,70)],\n",
    "    y=df3['Franchise Worldwide Box Office'][(df3['Franchise/Career']*100).between (60,70)],\n",
    "    mode='markers',\n",
    "    name='Franchise/Career Above 60%',\n",
    "    text=df3['text'][(df3['Franchise/Career']*100).between (60,70)],\n",
    "    marker=dict(\n",
    "        sizemode='area',\n",
    "        sizeref=sizeref,\n",
    "        color = custom_color[\"trace3\"],\n",
    "        size=df3['size'][(df3['Franchise/Career']*100).between (60,70)],\n",
    "        line=dict(\n",
    "            width=2\n",
    "        ),\n",
    "    ),\n",
    "\n",
    ")\n",
    "\n",
    "trace4 = go.Scatter(\n",
    "    x=df3['Career Worldwide Box Office'][(df3['Franchise/Career']*100).between (50,60)],\n",
    "    y=df3['Franchise Worldwide Box Office'][(df3['Franchise/Career']*100).between (50,60)],\n",
    "    mode='markers',\n",
    "    name='Franchise/Career Above 50%',\n",
    "    text=df3['text'][(df3['Franchise/Career']*100).between (50,60)],\n",
    "    marker=dict(\n",
    "        sizemode='area',\n",
    "        sizeref=sizeref,\n",
    "        color = custom_color[\"trace4\"],\n",
    "        size=df3['size'][(df3['Franchise/Career']*100).between (50,60)],\n",
    "        line=dict(\n",
    "            width=2\n",
    "        ),\n",
    "    ),\n",
    "\n",
    ")\n",
    "\n",
    "trace5 = go.Scatter(\n",
    "    x=df3['Career Worldwide Box Office'][(df3['Franchise/Career']*100).between (40,50)],\n",
    "    y=df3['Franchise Worldwide Box Office'][(df3['Franchise/Career']*100).between (40,50)],\n",
    "    mode='markers',\n",
    "    name='Franchise/Career Above 40%',\n",
    "    text=df3['text'][(df3['Franchise/Career']*100).between (40,50)],\n",
    "    marker=dict(\n",
    "        sizemode='area',\n",
    "        sizeref=sizeref,\n",
    "        color = custom_color[\"trace5\"],\n",
    "        size=df3['size'][(df3['Franchise/Career']*100).between (40,50)],\n",
    "        line=dict(\n",
    "            width=2\n",
    "        ),\n",
    "    ),\n",
    "\n",
    ")\n",
    "\n",
    "trace6 = go.Scatter(\n",
    "    x=df3['Career Worldwide Box Office'][(df3['Franchise/Career']*100).between (30,40)],\n",
    "    y=df3['Franchise Worldwide Box Office'][(df3['Franchise/Career']*100).between (30,40)],\n",
    "    mode='markers',\n",
    "    name='Franchise/Career Above 30%',\n",
    "    text=df3['text'][(df3['Franchise/Career']*100).between (30,40)],\n",
    "    marker=dict(\n",
    "        sizemode='area',\n",
    "        sizeref=sizeref,\n",
    "        color = custom_color[\"trace6\"],\n",
    "        size=df3['size'][(df3['Franchise/Career']*100).between (30,40)],\n",
    "        line=dict(\n",
    "            width=2\n",
    "        ),\n",
    "    ),\n",
    "\n",
    ")\n",
    "\n",
    "trace7 = go.Scatter(\n",
    "    x=df3['Career Worldwide Box Office'][(df3['Franchise/Career']*100).between (20,30)],\n",
    "    y=df3['Franchise Worldwide Box Office'][(df3['Franchise/Career']*100).between (20,30)],\n",
    "    mode='markers',\n",
    "    name='Franchise/Career Above 20%',\n",
    "    text=df3['text'][(df3['Franchise/Career']*100).between (20,30)],\n",
    "    marker=dict(\n",
    "        sizemode='area',\n",
    "        sizeref=sizeref,\n",
    "        color = custom_color[\"trace7\"],\n",
    "        size=df3['size'][(df3['Franchise/Career']*100).between (20,30)],\n",
    "        line=dict(\n",
    "            width=2\n",
    "        ),\n",
    "    ),\n",
    "\n",
    ")\n",
    "\n",
    "trace8 = go.Scatter(\n",
    "    x=df3['Career Worldwide Box Office'][(df3['Franchise/Career']*100).between (10,20)],\n",
    "    y=df3['Franchise Worldwide Box Office'][(df3['Franchise/Career']*100).between (10,20)],\n",
    "    mode='markers',\n",
    "    name='Franchise/Career Above 10%',\n",
    "    text=df3['text'][(df3['Franchise/Career']*100).between (10,20)],\n",
    "    marker=dict(\n",
    "        sizemode='area',\n",
    "        sizeref=sizeref,\n",
    "        color = custom_color[\"trace8\"],\n",
    "        size=df3['size'][(df3['Franchise/Career']*100).between (10,20)],\n",
    "        line=dict(\n",
    "            width=2\n",
    "        ),\n",
    "    ),\n",
    "\n",
    ")\n",
    "\n",
    "trace9 = go.Scatter(\n",
    "    x=df3['Career Worldwide Box Office'][(df3['Franchise/Career']*100).between (0,10)],\n",
    "    y=df3['Franchise Worldwide Box Office'][(df3['Franchise/Career']*100).between (0,10)],\n",
    "    mode='markers',\n",
    "    name='Franchise/Career Less Than 10%',\n",
    "    text=df3['text'][(df3['Franchise/Career']*100).between (0,10)],\n",
    "  \n",
    "    marker=dict(\n",
    "        sizemode='area',\n",
    "        sizeref=sizeref,\n",
    "        color = custom_color[\"trace9\"],\n",
    "        size=df3['size'][(df3['Franchise/Career']*100).between (0,10)],\n",
    "        line=dict(width=2),\n",
    "        ),\n",
    ")\n",
    "\n",
    "data = [trace0,trace1,trace2,trace3,trace4,trace5,trace6,trace7,trace8,trace9]\n",
    "\n",
    "layout = go.Layout(\n",
    "    title='Celebrity Appearances with Franchise Collection over Career Collection',\n",
    "    xaxis=dict(\n",
    "        title='Career Worldwide Box Office',\n",
    "        gridcolor='#FDFEFE',\n",
    "       type='log',\n",
    "       zerolinewidth=1,\n",
    "        ticklen=5,\n",
    "        gridwidth=1,\n",
    "    ),\n",
    "    yaxis=dict(\n",
    "        title='Franchise Worldwide Box Office',\n",
    "        gridcolor='#FDFEFE',\n",
    "       zerolinewidth=1,\n",
    "        ticklen=5,\n",
    "        gridwidth=1,\n",
    "    ),\n",
    "    paper_bgcolor='#FDFEFE',\n",
    "    plot_bgcolor='rgb(243, 243, 243)',\n",
    "    legend = dict(bordercolor = 'rgb(0, 0, 0)',tracegroupgap = 10)\n",
    ")\n",
    "\n",
    "fig = go.Figure(data=data, layout=layout)\n",
    "plotly.offline.iplot(fig, filename='Celebrity Appearances')\n",
    "#py.icreate_animations(figure, 'points_changing_size'+str(time.time()))"
   ]
  },
  {
   "cell_type": "markdown",
   "metadata": {},
   "source": [
    "# Bar chart with Line Plot"
   ]
  },
  {
   "cell_type": "code",
   "execution_count": 4,
   "metadata": {},
   "outputs": [
    {
     "data": {
      "application/vnd.plotly.v1+json": {
       "data": [
        {
         "marker": {
          "color": "rgba(50, 171, 96, 0.6)",
          "line": {
           "color": "rgba(50, 171, 96, 1.0)",
           "width": 1
          }
         },
         "name": "Profit in USD",
         "type": "bar",
         "uid": "ea0cc7a9-d841-4427-8331-c4f1344841bd",
         "x": [
          "Iron Man",
          "The Incredible Hulk",
          "Iron Man 2",
          "Thor",
          "Captain America: The First Avenger",
          "The Avengers",
          "Iron Man 3",
          "Thor: The Dark World",
          "Captain America: The Winter Soldier",
          "Guardians of the Galaxy",
          "Avengers: Age of Ultron",
          "Ant-Man",
          "Captain America: Civil War",
          "Doctor Strange",
          "Guardians of the Galaxy Vol 2",
          "Spider-Man: Homecoming",
          "Thor: Ragnarok",
          "Black Panther",
          "Avengers: Infinity War",
          "Ant-Man and the Wasp",
          "Captain Marvel",
          "Avengers: End Game",
          "Spider-Man: Far From Home",
          "Guardians of the Galaxy Vol 3"
         ],
         "y": [
          399171547,
          128073859,
          451156389,
          299326618,
          230569776,
          1292935897,
          1015392272,
          494602516,
          544401889,
          600867516,
          1072413963,
          388860086,
          890081024,
          511486457,
          662317259,
          705070886,
          666980024,
          1147071259,
          1708425124,
          487260330,
          0,
          0,
          0,
          0
         ]
        },
        {
         "line": {
          "color": "rgb(128, 0, 128)"
         },
         "name": "IMDB Rating",
         "type": "scatter",
         "uid": "a8d7ae97-ea6a-409f-8c0a-36612a3edd77",
         "x": [
          "Iron Man",
          "The Incredible Hulk",
          "Iron Man 2",
          "Thor",
          "Captain America: The First Avenger",
          "The Avengers",
          "Iron Man 3",
          "Thor: The Dark World",
          "Captain America: The Winter Soldier",
          "Guardians of the Galaxy",
          "Avengers: Age of Ultron",
          "Ant-Man",
          "Captain America: Civil War",
          "Doctor Strange",
          "Guardians of the Galaxy Vol 2",
          "Spider-Man: Homecoming",
          "Thor: Ragnarok",
          "Black Panther",
          "Avengers: Infinity War",
          "Ant-Man and the Wasp",
          "Captain Marvel",
          "Avengers: End Game",
          "Spider-Man: Far From Home",
          "Guardians of the Galaxy Vol 3"
         ],
         "y": [
          7.9,
          6.8,
          7,
          7,
          6.9,
          8.1,
          7.2,
          7,
          7.8,
          8.1,
          7.4,
          7.3,
          7.8,
          7.5,
          7.7,
          7.5,
          7.9,
          7.5,
          8.7,
          7.4,
          null,
          null,
          null,
          null
         ],
         "yaxis": "y2"
        }
       ],
       "layout": {
        "barmode": "group",
        "title": "IMDB Ratings & Marvel Profit",
        "xaxis": {
         "tickangle": 35,
         "ticks": "inside"
        },
        "yaxis": {
         "tickfont": {
          "color": "rgb(148, 103, 189)"
         },
         "title": "Profit in USD",
         "titlefont": {
          "color": "rgb(148, 103, 189)"
         }
        },
        "yaxis2": {
         "overlaying": "y",
         "side": "right",
         "tickfont": {
          "color": "rgb(148, 103, 189)"
         },
         "title": "IMDB Rating",
         "titlefont": {
          "color": "rgb(148, 103, 189)"
         }
        }
       }
      },
      "text/html": [
       "<div id=\"33a77655-dcb0-491b-8946-aa2613d6f0d3\" style=\"height: 525px; width: 100%;\" class=\"plotly-graph-div\"></div><script type=\"text/javascript\">require([\"plotly\"], function(Plotly) { window.PLOTLYENV=window.PLOTLYENV || {};window.PLOTLYENV.BASE_URL=\"https://plot.ly\";Plotly.newPlot(\"33a77655-dcb0-491b-8946-aa2613d6f0d3\", [{\"marker\": {\"color\": \"rgba(50, 171, 96, 0.6)\", \"line\": {\"color\": \"rgba(50, 171, 96, 1.0)\", \"width\": 1}}, \"name\": \"Profit in USD\", \"x\": [\"Iron Man\", \"The Incredible Hulk\", \"Iron Man 2\", \"Thor\", \"Captain America: The First Avenger\", \"The Avengers\", \"Iron Man 3\", \"Thor: The Dark World\", \"Captain America: The Winter Soldier\", \"Guardians of the Galaxy\", \"Avengers: Age of Ultron\", \"Ant-Man\", \"Captain America: Civil War\", \"Doctor Strange\", \"Guardians of the Galaxy Vol 2\", \"Spider-Man: Homecoming\", \"Thor: Ragnarok\", \"Black Panther\", \"Avengers: Infinity War\", \"Ant-Man and the Wasp\", \"Captain Marvel\", \"Avengers: End Game\", \"Spider-Man: Far From Home\", \"Guardians of the Galaxy Vol 3\"], \"y\": [399171547, 128073859, 451156389, 299326618, 230569776, 1292935897, 1015392272, 494602516, 544401889, 600867516, 1072413963, 388860086, 890081024, 511486457, 662317259, 705070886, 666980024, 1147071259, 1708425124, 487260330, 0, 0, 0, 0], \"type\": \"bar\", \"uid\": \"ea0cc7a9-d841-4427-8331-c4f1344841bd\"}, {\"line\": {\"color\": \"rgb(128, 0, 128)\"}, \"name\": \"IMDB Rating\", \"x\": [\"Iron Man\", \"The Incredible Hulk\", \"Iron Man 2\", \"Thor\", \"Captain America: The First Avenger\", \"The Avengers\", \"Iron Man 3\", \"Thor: The Dark World\", \"Captain America: The Winter Soldier\", \"Guardians of the Galaxy\", \"Avengers: Age of Ultron\", \"Ant-Man\", \"Captain America: Civil War\", \"Doctor Strange\", \"Guardians of the Galaxy Vol 2\", \"Spider-Man: Homecoming\", \"Thor: Ragnarok\", \"Black Panther\", \"Avengers: Infinity War\", \"Ant-Man and the Wasp\", \"Captain Marvel\", \"Avengers: End Game\", \"Spider-Man: Far From Home\", \"Guardians of the Galaxy Vol 3\"], \"y\": [7.9, 6.8, 7.0, 7.0, 6.9, 8.1, 7.2, 7.0, 7.8, 8.1, 7.4, 7.3, 7.8, 7.5, 7.7, 7.5, 7.9, 7.5, 8.7, 7.4, null, null, null, null], \"yaxis\": \"y2\", \"type\": \"scatter\", \"uid\": \"a8d7ae97-ea6a-409f-8c0a-36612a3edd77\"}], {\"barmode\": \"group\", \"title\": \"IMDB Ratings & Marvel Profit\", \"xaxis\": {\"tickangle\": 35, \"ticks\": \"inside\"}, \"yaxis\": {\"tickfont\": {\"color\": \"rgb(148, 103, 189)\"}, \"title\": \"Profit in USD\", \"titlefont\": {\"color\": \"rgb(148, 103, 189)\"}}, \"yaxis2\": {\"overlaying\": \"y\", \"side\": \"right\", \"tickfont\": {\"color\": \"rgb(148, 103, 189)\"}, \"title\": \"IMDB Rating\", \"titlefont\": {\"color\": \"rgb(148, 103, 189)\"}}}, {\"showLink\": true, \"linkText\": \"Export to plot.ly\"})});</script><script type=\"text/javascript\">window.addEventListener(\"resize\", function(){window._Plotly.Plots.resize(document.getElementById(\"33a77655-dcb0-491b-8946-aa2613d6f0d3\"));});</script>"
      ],
      "text/vnd.plotly.v1+html": [
       "<div id=\"33a77655-dcb0-491b-8946-aa2613d6f0d3\" style=\"height: 525px; width: 100%;\" class=\"plotly-graph-div\"></div><script type=\"text/javascript\">require([\"plotly\"], function(Plotly) { window.PLOTLYENV=window.PLOTLYENV || {};window.PLOTLYENV.BASE_URL=\"https://plot.ly\";Plotly.newPlot(\"33a77655-dcb0-491b-8946-aa2613d6f0d3\", [{\"marker\": {\"color\": \"rgba(50, 171, 96, 0.6)\", \"line\": {\"color\": \"rgba(50, 171, 96, 1.0)\", \"width\": 1}}, \"name\": \"Profit in USD\", \"x\": [\"Iron Man\", \"The Incredible Hulk\", \"Iron Man 2\", \"Thor\", \"Captain America: The First Avenger\", \"The Avengers\", \"Iron Man 3\", \"Thor: The Dark World\", \"Captain America: The Winter Soldier\", \"Guardians of the Galaxy\", \"Avengers: Age of Ultron\", \"Ant-Man\", \"Captain America: Civil War\", \"Doctor Strange\", \"Guardians of the Galaxy Vol 2\", \"Spider-Man: Homecoming\", \"Thor: Ragnarok\", \"Black Panther\", \"Avengers: Infinity War\", \"Ant-Man and the Wasp\", \"Captain Marvel\", \"Avengers: End Game\", \"Spider-Man: Far From Home\", \"Guardians of the Galaxy Vol 3\"], \"y\": [399171547, 128073859, 451156389, 299326618, 230569776, 1292935897, 1015392272, 494602516, 544401889, 600867516, 1072413963, 388860086, 890081024, 511486457, 662317259, 705070886, 666980024, 1147071259, 1708425124, 487260330, 0, 0, 0, 0], \"type\": \"bar\", \"uid\": \"ea0cc7a9-d841-4427-8331-c4f1344841bd\"}, {\"line\": {\"color\": \"rgb(128, 0, 128)\"}, \"name\": \"IMDB Rating\", \"x\": [\"Iron Man\", \"The Incredible Hulk\", \"Iron Man 2\", \"Thor\", \"Captain America: The First Avenger\", \"The Avengers\", \"Iron Man 3\", \"Thor: The Dark World\", \"Captain America: The Winter Soldier\", \"Guardians of the Galaxy\", \"Avengers: Age of Ultron\", \"Ant-Man\", \"Captain America: Civil War\", \"Doctor Strange\", \"Guardians of the Galaxy Vol 2\", \"Spider-Man: Homecoming\", \"Thor: Ragnarok\", \"Black Panther\", \"Avengers: Infinity War\", \"Ant-Man and the Wasp\", \"Captain Marvel\", \"Avengers: End Game\", \"Spider-Man: Far From Home\", \"Guardians of the Galaxy Vol 3\"], \"y\": [7.9, 6.8, 7.0, 7.0, 6.9, 8.1, 7.2, 7.0, 7.8, 8.1, 7.4, 7.3, 7.8, 7.5, 7.7, 7.5, 7.9, 7.5, 8.7, 7.4, null, null, null, null], \"yaxis\": \"y2\", \"type\": \"scatter\", \"uid\": \"a8d7ae97-ea6a-409f-8c0a-36612a3edd77\"}], {\"barmode\": \"group\", \"title\": \"IMDB Ratings & Marvel Profit\", \"xaxis\": {\"tickangle\": 35, \"ticks\": \"inside\"}, \"yaxis\": {\"tickfont\": {\"color\": \"rgb(148, 103, 189)\"}, \"title\": \"Profit in USD\", \"titlefont\": {\"color\": \"rgb(148, 103, 189)\"}}, \"yaxis2\": {\"overlaying\": \"y\", \"side\": \"right\", \"tickfont\": {\"color\": \"rgb(148, 103, 189)\"}, \"title\": \"IMDB Rating\", \"titlefont\": {\"color\": \"rgb(148, 103, 189)\"}}}, {\"showLink\": true, \"linkText\": \"Export to plot.ly\"})});</script><script type=\"text/javascript\">window.addEventListener(\"resize\", function(){window._Plotly.Plots.resize(document.getElementById(\"33a77655-dcb0-491b-8946-aa2613d6f0d3\"));});</script>"
      ]
     },
     "metadata": {},
     "output_type": "display_data"
    }
   ],
   "source": [
    "import plotly.plotly as py\n",
    "import plotly.graph_objs as go\n",
    "\n",
    "trace1 = go.Bar(\n",
    "    x=df1['TITLE'],\n",
    "    y=df1['WORLDWIDE BOX OFFICE']-df1['PRODUCTION BUDGET'],\n",
    "    name='Profit in USD',\n",
    "    marker=dict(\n",
    "        color='rgba(50, 171, 96, 0.6)',\n",
    "        line=dict(\n",
    "            color='rgba(50, 171, 96, 1.0)',\n",
    "            width=1),\n",
    "    ),\n",
    ")\n",
    "\n",
    "trace2 = go.Scatter(\n",
    "    y=df1['IMDB RATING'],\n",
    "    x=df1['TITLE'],\n",
    "     name='IMDB Rating',\n",
    "    yaxis='y2',\n",
    "    line=dict(\n",
    "        color='rgb(128, 0, 128)'),\n",
    ")\n",
    "data = [trace1,trace2]\n",
    "layout = go.Layout(\n",
    "    barmode='group',\n",
    "    title=\"IMDB Ratings & Marvel Profit\",\n",
    "    xaxis =dict(ticks = \"inside\",tickangle = (35) ),\n",
    "     yaxis=dict(\n",
    "        title='Profit in USD',\n",
    "         titlefont=dict(\n",
    "            color='rgb(148, 103, 189)'\n",
    "        ),\n",
    "        tickfont=dict(\n",
    "            color='rgb(148, 103, 189)'\n",
    "        )\n",
    "    ),\n",
    "    yaxis2=dict(\n",
    "        title='IMDB Rating',\n",
    "        titlefont=dict(\n",
    "            color='rgb(148, 103, 189)'\n",
    "        ),\n",
    "        tickfont=dict(\n",
    "            color='rgb(148, 103, 189)'\n",
    "        ),\n",
    "        overlaying='y',\n",
    "        side='right'\n",
    "    )\n",
    ")\n",
    "\n",
    "fig = go.Figure(data=data, layout=layout)\n",
    "plotly.offline.iplot(fig, filename='IMDB Ratings & Marvel Profit')"
   ]
  },
  {
   "cell_type": "markdown",
   "metadata": {},
   "source": [
    "# Experimenting with Images"
   ]
  },
  {
   "cell_type": "code",
   "execution_count": 5,
   "metadata": {},
   "outputs": [
    {
     "data": {
      "image/png": "[encoded data removed]",
      "text/plain": [
       "<Figure size 432x288 with 1 Axes>"
      ]
     },
     "metadata": {},
     "output_type": "display_data"
    }
   ],
   "source": [
    "import numpy as np\n",
    "import matplotlib.pyplot as plt\n",
    "from scipy.misc import imread\n",
    "import imageio\n",
    "\n",
    "def image_plot(heights, images, spacing=0):\n",
    "    # Iterate through images and data, autoscaling the width to\n",
    "    # the aspect ratio of the image\n",
    "    for i, (height, img) in enumerate(zip(heights, images)):\n",
    "        AR = img.shape[1] / img.shape[0]\n",
    "        width = height * AR\n",
    "        left = width*i + spacing*i\n",
    "        right = left + width\n",
    "        plt.imshow(img, extent=[left, right, 0, height])\n",
    "    # Set x,y limits on plot window\n",
    "    plt.xlim(0, right)\n",
    "    plt.ylim(0, max(heights)*1.1)\n",
    "\n",
    "# Read in flag images\n",
    "usa_flag = imageio.imread(\"C:/Users/Gautam/Desktop/marvel-images/Avengers-Infinity-War.jpg\").swapaxes(0, 1)\n",
    "aussie_flag = imageio.imread(\"C:/Users/Gautam/Desktop/marvel-images/Avengers.jpg\").swapaxes(0, 1)\n",
    "turkish_flag = imageio.imread(\"C:/Users/Gautam/Desktop/marvel-images/Avengers-Age-of-Ultron.jpg\").swapaxes(0, 1)\n",
    "\n",
    "# Make up some data about each country\n",
    "usa_data = 30\n",
    "aussie_data = 30\n",
    "turkish_data = 30\n",
    "\n",
    "data = [usa_data, aussie_data, turkish_data]\n",
    "flags = [usa_flag, aussie_flag, turkish_flag]\n",
    "\n",
    "image_plot(data, flags, spacing=2)"
   ]
  },
  {
   "cell_type": "code",
   "execution_count": 6,
   "metadata": {},
   "outputs": [
    {
     "data": {
      "image/png": "[encoded data removed]",
      "text/plain": [
       "<Figure size 432x288 with 1 Axes>"
      ]
     },
     "metadata": {},
     "output_type": "display_data"
    }
   ],
   "source": [
    "import numpy as np\n",
    "import matplotlib.pyplot as plt\n",
    "from scipy.misc import imread\n",
    "import imageio\n",
    "import pandas as pd\n",
    "\n",
    "def image_plot(heights, images, spacing):\n",
    "\n",
    "    for i, (height, img) in enumerate(zip(heights, images)):\n",
    "        AR = img.shape[1] / img.shape[0]\n",
    "        width = height * AR\n",
    "        left = width*i + spacing*i\n",
    "        right = left + width\n",
    "        plt.xlim(0, right)\n",
    "        plt.ylim(0, max(heights)*1.1)\n",
    "        plt.imshow(img, extent=[left, right, 0, height])\n",
    "    # Set x,y limits on plot window\n",
    "   \n",
    "\n",
    "# Read in images\n",
    "ant_Man = imageio.imread(\"C:/Users/Gautam/Desktop/marvel-images/Ant-Man.jpg\").swapaxes(0, 1)\n",
    "ant_Man2 = imageio.imread(\"C:/Users/Gautam/Desktop/marvel-images/Ant-Man-and-the-Wasp.jpg\").swapaxes(0, 1)\n",
    "avengers= imageio.imread(\"C:/Users/Gautam/Desktop/marvel-images/Avengers.jpg\").swapaxes(0, 1)\n",
    "avengers_ultron = imageio.imread(\"C:/Users/Gautam/Desktop/marvel-images/Avengers-Age-of-Ultron.jpg\").swapaxes(0, 1)\n",
    "avengers_endgame = imageio.imread(\"C:/Users/Gautam/Desktop/marvel-images/Avengers-End-Game.jpg\").swapaxes(0, 1)\n",
    "avengers_infinitywars = imageio.imread(\"C:/Users/Gautam/Desktop/marvel-images/Avengers-Infinity-War.jpg\").swapaxes(0, 1)\n",
    "black_panther= imageio.imread(\"C:/Users/Gautam/Desktop/marvel-images/Black-Panther.jpg\").swapaxes(0, 1)\n",
    "captainamerica= imageio.imread(\"C:/Users/Gautam/Desktop/marvel-images/Captain-America.jpg\").swapaxes(0, 1) \n",
    "captainamerica_civilwar= imageio.imread(\"C:/Users/Gautam/Desktop/marvel-images/Captain-America-Civil-War.jpg\").swapaxes(0, 1) \n",
    "captainamerica_wintersoldier=imageio.imread(\"C:/Users/Gautam/Desktop/marvel-images/Captain-America-The-Winter-Soldier.jpg\").swapaxes(0, 1) \n",
    "captainmarvel=imageio.imread(\"C:/Users/Gautam/Desktop/marvel-images/Captain-Marvel.jpg\").swapaxes(0, 1)   \n",
    "drstrange=imageio.imread(\"C:/Users/Gautam/Desktop/marvel-images/Doctor-Strange.jpg\").swapaxes(0, 1)\n",
    "gog= imageio.imread(\"C:/Users/Gautam/Desktop/marvel-images/Guardians-of-the-Galaxy.jpg\").swapaxes(0, 1)\n",
    "gog2= imageio.imread(\"C:/Users/Gautam/Desktop/marvel-images/Guardians-of-the-Galaxy-Vol-2.jpg\").swapaxes(0, 1)                    \n",
    "gog3= imageio.imread(\"C:/Users/Gautam/Desktop/marvel-images/Guardians-of-the-Galaxy-Vol-3.jpg\").swapaxes(0, 1)\n",
    "ironman= imageio.imread(\"C:/Users/Gautam/Desktop/marvel-images/Iron-Man.jpg\").swapaxes(0, 1)  \n",
    "ironman2= imageio.imread(\"C:/Users/Gautam/Desktop/marvel-images/Iron-Man-2.jpg\").swapaxes(0, 1) \n",
    "ironman3= imageio.imread(\"C:/Users/Gautam/Desktop/marvel-images/Iron-Man-3.jpg\").swapaxes(0, 1)\n",
    "spiderman1=  imageio.imread(\"C:/Users/Gautam/Desktop/marvel-images/Spider-Man-Homecoming.jpg\").swapaxes(0, 1)\n",
    "spiderman2=  imageio.imread(\"C:/Users/Gautam/Desktop/marvel-images/Spider-Man-Far-From-Home.jpg\").swapaxes(0, 1)\n",
    "hulk=  imageio.imread(\"C:/Users/Gautam/Desktop/marvel-images/The-Incredible-Hulk.jpg\").swapaxes(0, 1)\n",
    "thor = imageio.imread(\"C:/Users/Gautam/Desktop/marvel-images/Thor.jpg\").swapaxes(0, 1)\n",
    "thor2 = imageio.imread(\"C:/Users/Gautam/Desktop/marvel-images/Thor-The-Dark-World.jpg\").swapaxes(0, 1)\n",
    "thor3 = imageio.imread(\"C:/Users/Gautam/Desktop/marvel-images/Thor-Ragnarok.jpg\").swapaxes(0, 1)                      \n",
    "                            \n",
    "                            \n",
    "                            \n",
    "#usa_flag = imageio.imread(\"C:/Users/Gautam/Desktop/marvel-images/Avengers-Infinity-War.jpg\")\n",
    "#aussie_flag = imageio.imread(\"C:/Users/Gautam/Desktop/marvel-images/The-Avengers.jpg\").swapaxes(0, 1)\n",
    "#turkish_flag = imageio.imread(\"C:/Users/Gautam/Desktop/marvel-images/Avengers-Age-of-Ultron.jpg\").swapaxes(0, 1)\n",
    "\n",
    "\n",
    "data = df1[\"WORLDWIDE BOX OFFICE\"].sort_values(ascending=False)\n",
    "images = [avengers_infinitywars,avengers,avengers_ultron,black_panther,ironman3,captainamerica_civilwar,spiderman1,\n",
    "          gog2,thor3,gog,captainamerica_wintersoldier,drstrange,thor2,ironman2,ant_Man2, ironman,ant_Man,thor,captainamerica,\n",
    "          hulk]\n",
    "#captainmarvel]\n",
    "#avengers_endgame,spiderman2,gog3]\n",
    "index = np.arange(len(images))\n",
    "\n",
    "image_plot(data, images, spacing=10)\n",
    "\n",
    "#def plot_bar_x():\n",
    "    # this is for plotting purpose\n",
    " \n",
    "#plt.barh(images, data)\n",
    "#plt.xlabel('Movies', fontsize=5)\n",
    "#plt.ylabel('Worldwide Collection', fontsize=5)\n",
    "#plt.xticks(index, data, fontsize=5, rotation=30)\n",
    "#plt.title('Marvel')\n",
    "#plt.show()"
   ]
  }
 ],
 "metadata": {
  "kernelspec": {
   "display_name": "Python 3",
   "language": "python",
   "name": "python3"
  },
  "language_info": {
   "codemirror_mode": {
    "name": "ipython",
    "version": 3
   },
   "file_extension": ".py",
   "mimetype": "text/x-python",
   "name": "python",
   "nbconvert_exporter": "python",
   "pygments_lexer": "ipython3",
   "version": "3.6.5"
  }
 },
 "nbformat": 4,
 "nbformat_minor": 2
}
